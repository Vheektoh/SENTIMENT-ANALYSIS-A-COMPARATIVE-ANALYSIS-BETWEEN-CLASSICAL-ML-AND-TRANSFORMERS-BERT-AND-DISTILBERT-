{
 "cells": [
  {
   "cell_type": "code",
   "execution_count": 1,
   "id": "74e74155",
   "metadata": {},
   "outputs": [
    {
     "name": "stdout",
     "output_type": "stream",
     "text": [
      "Collecting xgboost\n",
      "  Using cached xgboost-2.1.3-py3-none-manylinux_2_28_x86_64.whl.metadata (2.1 kB)\n",
      "Requirement already satisfied: numpy in /home/feng/anaconda3/lib/python3.10/site-packages (from xgboost) (1.23.5)\n",
      "Collecting nvidia-nccl-cu12 (from xgboost)\n",
      "  Using cached nvidia_nccl_cu12-2.23.4-py3-none-manylinux2014_x86_64.whl.metadata (1.8 kB)\n",
      "Requirement already satisfied: scipy in /home/feng/anaconda3/lib/python3.10/site-packages (from xgboost) (1.10.0)\n",
      "Downloading xgboost-2.1.3-py3-none-manylinux_2_28_x86_64.whl (153.9 MB)\n",
      "\u001b[2K   \u001b[38;2;114;156;31m━━━━━━━━━━━━━━━━━━━━━━━━━━━━━━━━━━━━━━━━\u001b[0m \u001b[32m153.9/153.9 MB\u001b[0m \u001b[31m1.7 MB/s\u001b[0m eta \u001b[36m0:00:00\u001b[0mm eta \u001b[36m0:00:01\u001b[0m[36m0:00:03\u001b[0m\n",
      "\u001b[?25hDownloading nvidia_nccl_cu12-2.23.4-py3-none-manylinux2014_x86_64.whl (199.0 MB)\n",
      "\u001b[2K   \u001b[38;2;114;156;31m━━━━━━━━━━━━━━━━━━━━━━━━━━━━━━━━━━━━━━━━\u001b[0m \u001b[32m199.0/199.0 MB\u001b[0m \u001b[31m2.2 MB/s\u001b[0m eta \u001b[36m0:00:00\u001b[0mm eta \u001b[36m0:00:01\u001b[0m[36m0:00:03\u001b[0m\n",
      "\u001b[?25hInstalling collected packages: nvidia-nccl-cu12, xgboost\n",
      "Successfully installed nvidia-nccl-cu12-2.23.4 xgboost-2.1.3\n",
      "\n",
      "\u001b[1m[\u001b[0m\u001b[34;49mnotice\u001b[0m\u001b[1;39;49m]\u001b[0m\u001b[39;49m A new release of pip is available: \u001b[0m\u001b[31;49m24.2\u001b[0m\u001b[39;49m -> \u001b[0m\u001b[32;49m24.3.1\u001b[0m\n",
      "\u001b[1m[\u001b[0m\u001b[34;49mnotice\u001b[0m\u001b[1;39;49m]\u001b[0m\u001b[39;49m To update, run: \u001b[0m\u001b[32;49mpip install --upgrade pip\u001b[0m\n",
      "Note: you may need to restart the kernel to use updated packages.\n"
     ]
    }
   ],
   "source": [
    "pip install xgboost"
   ]
  },
  {
   "cell_type": "markdown",
   "id": "44cd73b5",
   "metadata": {},
   "source": [
    "# SENTIMENT ANALYSIS : A COMPARATIVE ANALYSIS BETWEEN MACHINE AND DEEP LEARNING TECHNIQUES"
   ]
  },
  {
   "cell_type": "markdown",
   "id": "8e3f8d06",
   "metadata": {},
   "source": [
    "### IMPORTING THE REQUIRED LIBRARIES"
   ]
  },
  {
   "cell_type": "code",
   "execution_count": 2,
   "id": "ef98cb8a",
   "metadata": {
    "execution": {
     "iopub.execute_input": "2024-12-25T12:44:46.685609Z",
     "iopub.status.busy": "2024-12-25T12:44:46.685282Z",
     "iopub.status.idle": "2024-12-25T12:44:49.184616Z",
     "shell.execute_reply": "2024-12-25T12:44:49.183981Z",
     "shell.execute_reply.started": "2024-12-25T12:44:46.685580Z"
    }
   },
   "outputs": [],
   "source": [
    "import pandas as pd # Importing pandas library and aliasing it as pd\n",
    "import numpy as np # Importing numpy library and aliasing it as np\n",
    "import time # tracks time for a certain operation\n",
    "import psutil # tracks cpu usage\n",
    "import threading # allows continous monitoring\n",
    "from sklearn.feature_extraction.text import TfidfVectorizer\n",
    "from sklearn.preprocessing import Normalizer # scaler\n",
    "from sklearn.model_selection import train_test_split # splitting the dataset\n",
    "import matplotlib.pyplot as plt # Importing pyplot module from matplotlib library and aliasing it as plt\n",
    "from sklearn.preprocessing import LabelEncoder\n",
    "from imblearn.over_sampling import RandomOverSampler # the oversampler\n",
    "from sklearn.naive_bayes import MultinomialNB # naive bayes model\n",
    "from sklearn.linear_model import LogisticRegression # logistic regression\n",
    "from sklearn.ensemble import RandomForestClassifier # random forest \n",
    "from xgboost import XGBClassifier # extreme gradient boost\n",
    "from sklearn.ensemble import GradientBoostingClassifier # gradient boost\n",
    "from sklearn.tree import DecisionTreeClassifier # decision trees\n",
    "from sklearn.svm import SVC # support vector classifier\n",
    "import seaborn as sns # Importing seaborn library and aliasing it as sns\n",
    "from sklearn.metrics import accuracy_score, precision_score, recall_score, f1_score, roc_auc_score, precision_recall_curve, roc_curve, auc, confusion_matrix, classification_report\n",
    "import warnings\n",
    "warnings.filterwarnings(\"ignore\")\n",
    "pd.set_option('display.max_columns', None)   # Setting pandas option to display all columns in DataFrame\n",
    "plt.style.use('ggplot')  # Setting plot style to 'ggplot' from matplotlib"
   ]
  },
  {
   "cell_type": "code",
   "execution_count": 3,
   "id": "bdde0ede",
   "metadata": {},
   "outputs": [],
   "source": [
    "# Reading data from into data DataFrame\n",
    "data = pd.read_csv(\"twitter.csv\")"
   ]
  },
  {
   "cell_type": "code",
   "execution_count": null,
   "id": "42b905c1",
   "metadata": {
    "execution": {
     "iopub.execute_input": "2024-12-25T12:44:58.056995Z",
     "iopub.status.busy": "2024-12-25T12:44:58.056477Z",
     "iopub.status.idle": "2024-12-25T12:44:58.190010Z",
     "shell.execute_reply": "2024-12-25T12:44:58.189258Z",
     "shell.execute_reply.started": "2024-12-25T12:44:58.056949Z"
    },
    "scrolled": true
   },
   "outputs": [],
   "source": [
    "# Reading data from into data DataFrame\n",
    "data = pd.read_csv(\"/kaggle/input/omie-dataset/twitter.csv\")"
   ]
  },
  {
   "cell_type": "code",
   "execution_count": 4,
   "id": "6f385c05",
   "metadata": {
    "execution": {
     "iopub.execute_input": "2024-12-25T12:45:02.733540Z",
     "iopub.status.busy": "2024-12-25T12:45:02.733202Z",
     "iopub.status.idle": "2024-12-25T12:45:02.754361Z",
     "shell.execute_reply": "2024-12-25T12:45:02.753671Z",
     "shell.execute_reply.started": "2024-12-25T12:45:02.733510Z"
    }
   },
   "outputs": [
    {
     "data": {
      "text/html": [
       "<div>\n",
       "<style scoped>\n",
       "    .dataframe tbody tr th:only-of-type {\n",
       "        vertical-align: middle;\n",
       "    }\n",
       "\n",
       "    .dataframe tbody tr th {\n",
       "        vertical-align: top;\n",
       "    }\n",
       "\n",
       "    .dataframe thead th {\n",
       "        text-align: right;\n",
       "    }\n",
       "</style>\n",
       "<table border=\"1\" class=\"dataframe\">\n",
       "  <thead>\n",
       "    <tr style=\"text-align: right;\">\n",
       "      <th></th>\n",
       "      <th>id</th>\n",
       "      <th>label</th>\n",
       "      <th>tweet</th>\n",
       "    </tr>\n",
       "  </thead>\n",
       "  <tbody>\n",
       "    <tr>\n",
       "      <th>0</th>\n",
       "      <td>1</td>\n",
       "      <td>0</td>\n",
       "      <td>@user when a father is dysfunctional and is s...</td>\n",
       "    </tr>\n",
       "    <tr>\n",
       "      <th>1</th>\n",
       "      <td>2</td>\n",
       "      <td>0</td>\n",
       "      <td>@user @user thanks for #lyft credit i can't us...</td>\n",
       "    </tr>\n",
       "    <tr>\n",
       "      <th>2</th>\n",
       "      <td>3</td>\n",
       "      <td>0</td>\n",
       "      <td>bihday your majesty</td>\n",
       "    </tr>\n",
       "    <tr>\n",
       "      <th>3</th>\n",
       "      <td>4</td>\n",
       "      <td>0</td>\n",
       "      <td>#model   i love u take with u all the time in ...</td>\n",
       "    </tr>\n",
       "    <tr>\n",
       "      <th>4</th>\n",
       "      <td>5</td>\n",
       "      <td>0</td>\n",
       "      <td>factsguide: society now    #motivation</td>\n",
       "    </tr>\n",
       "  </tbody>\n",
       "</table>\n",
       "</div>"
      ],
      "text/plain": [
       "   id  label                                              tweet\n",
       "0   1      0   @user when a father is dysfunctional and is s...\n",
       "1   2      0  @user @user thanks for #lyft credit i can't us...\n",
       "2   3      0                                bihday your majesty\n",
       "3   4      0  #model   i love u take with u all the time in ...\n",
       "4   5      0             factsguide: society now    #motivation"
      ]
     },
     "execution_count": 4,
     "metadata": {},
     "output_type": "execute_result"
    }
   ],
   "source": [
    "# Displaying the DataFrame\n",
    "data.head()"
   ]
  },
  {
   "cell_type": "markdown",
   "id": "1b742077",
   "metadata": {},
   "source": [
    "### DATA PREPROCESSING"
   ]
  },
  {
   "cell_type": "markdown",
   "id": "e070f045",
   "metadata": {},
   "source": [
    "In this section we would apply the basic text preprocessings, and extract the reviews and rating column from the existing dataset as those would be the only features necessary for the sentiment analysis."
   ]
  },
  {
   "cell_type": "code",
   "execution_count": 5,
   "id": "bbc105cc",
   "metadata": {
    "execution": {
     "iopub.execute_input": "2024-12-25T12:45:08.404085Z",
     "iopub.status.busy": "2024-12-25T12:45:08.403755Z",
     "iopub.status.idle": "2024-12-25T12:45:09.794033Z",
     "shell.execute_reply": "2024-12-25T12:45:09.793063Z",
     "shell.execute_reply.started": "2024-12-25T12:45:08.404059Z"
    }
   },
   "outputs": [
    {
     "name": "stderr",
     "output_type": "stream",
     "text": [
      "[nltk_data] Downloading package wordnet to /home/feng/nltk_data...\n",
      "[nltk_data]   Package wordnet is already up-to-date!\n",
      "[nltk_data] Downloading package stopwords to /home/feng/nltk_data...\n",
      "[nltk_data]   Package stopwords is already up-to-date!\n",
      "[nltk_data] Downloading package punkt to /home/feng/nltk_data...\n",
      "[nltk_data]   Package punkt is already up-to-date!\n",
      "[nltk_data] Downloading package punkt_tab to /home/feng/nltk_data...\n",
      "[nltk_data]   Package punkt_tab is already up-to-date!\n"
     ]
    }
   ],
   "source": [
    "# these are the libraries used for text preprocessing\n",
    "import nltk\n",
    "from nltk.stem import WordNetLemmatizer, PorterStemmer\n",
    "from nltk import word_tokenize\n",
    "from nltk.corpus import stopwords\n",
    "nltk.download(\"wordnet\")\n",
    "nltk.download(\"stopwords\")\n",
    "nltk.download(\"punkt\")\n",
    "nltk.download(\"punkt_tab\")\n",
    "import re\n",
    "from tqdm.auto import tqdm\n",
    "import string"
   ]
  },
  {
   "cell_type": "code",
   "execution_count": 6,
   "id": "36378945",
   "metadata": {
    "execution": {
     "iopub.execute_input": "2024-12-25T12:45:14.503806Z",
     "iopub.status.busy": "2024-12-25T12:45:14.503456Z",
     "iopub.status.idle": "2024-12-25T12:45:14.511118Z",
     "shell.execute_reply": "2024-12-25T12:45:14.510255Z",
     "shell.execute_reply.started": "2024-12-25T12:45:14.503749Z"
    }
   },
   "outputs": [],
   "source": [
    "# initializing the stopwords and the stemmer\n",
    "stop_words = list(stopwords.words(\"english\"))\n",
    "stemmer = PorterStemmer()"
   ]
  },
  {
   "cell_type": "markdown",
   "id": "e3ee784f",
   "metadata": {},
   "source": [
    "### CREATING A FUNCTION TO PREPROCESS THE WHOLE DATASET IN ONE CALL"
   ]
  },
  {
   "cell_type": "code",
   "execution_count": 7,
   "id": "927ac788",
   "metadata": {
    "execution": {
     "iopub.execute_input": "2024-12-25T12:45:19.549086Z",
     "iopub.status.busy": "2024-12-25T12:45:19.548708Z",
     "iopub.status.idle": "2024-12-25T12:45:19.554926Z",
     "shell.execute_reply": "2024-12-25T12:45:19.553724Z",
     "shell.execute_reply.started": "2024-12-25T12:45:19.549056Z"
    }
   },
   "outputs": [],
   "source": [
    "def preprocess_text(text):\n",
    "    # convert to lowercase\n",
    "    text = text.lower()\n",
    "    \n",
    "    # remove punctuations\n",
    "    text = text.translate(str.maketrans(\"\", \"\", string.punctuation))\n",
    "    \n",
    "    # remove special characters\n",
    "    text = re.sub(r\"\\s+[^a-zA-Z]\\s+\", \" \", text)\n",
    "    \n",
    "    # tokenize text\n",
    "    tokens = word_tokenize(text)\n",
    "    \n",
    "    # remove stop words\n",
    "    tokens = [word for word in tokens if word not in stop_words]\n",
    "    \n",
    "    # stemming\n",
    "    tokens = [stemmer.stem(word) for word in tokens]\n",
    "    \n",
    "    # join tokens back to string\n",
    "    text = \" \".join(tokens)\n",
    "    \n",
    "    return text"
   ]
  },
  {
   "cell_type": "markdown",
   "id": "20f06484",
   "metadata": {},
   "source": [
    "### APPLYING PREPROCESSING ON THE REVIEWS DATASET"
   ]
  },
  {
   "cell_type": "code",
   "execution_count": 8,
   "id": "d09eba1d",
   "metadata": {
    "execution": {
     "iopub.execute_input": "2024-12-25T12:45:24.404062Z",
     "iopub.status.busy": "2024-12-25T12:45:24.401973Z",
     "iopub.status.idle": "2024-12-25T12:45:33.983647Z",
     "shell.execute_reply": "2024-12-25T12:45:33.982967Z",
     "shell.execute_reply.started": "2024-12-25T12:45:24.404003Z"
    }
   },
   "outputs": [],
   "source": [
    "# appplying the text preprocessing\n",
    "data[\"tweet\"] = data[\"tweet\"].apply(preprocess_text)"
   ]
  },
  {
   "cell_type": "code",
   "execution_count": 9,
   "id": "54eb002e",
   "metadata": {
    "execution": {
     "iopub.execute_input": "2024-12-25T12:45:46.016202Z",
     "iopub.status.busy": "2024-12-25T12:45:46.015887Z",
     "iopub.status.idle": "2024-12-25T12:45:46.023987Z",
     "shell.execute_reply": "2024-12-25T12:45:46.023258Z",
     "shell.execute_reply.started": "2024-12-25T12:45:46.016178Z"
    }
   },
   "outputs": [
    {
     "data": {
      "text/html": [
       "<div>\n",
       "<style scoped>\n",
       "    .dataframe tbody tr th:only-of-type {\n",
       "        vertical-align: middle;\n",
       "    }\n",
       "\n",
       "    .dataframe tbody tr th {\n",
       "        vertical-align: top;\n",
       "    }\n",
       "\n",
       "    .dataframe thead th {\n",
       "        text-align: right;\n",
       "    }\n",
       "</style>\n",
       "<table border=\"1\" class=\"dataframe\">\n",
       "  <thead>\n",
       "    <tr style=\"text-align: right;\">\n",
       "      <th></th>\n",
       "      <th>id</th>\n",
       "      <th>label</th>\n",
       "      <th>tweet</th>\n",
       "    </tr>\n",
       "  </thead>\n",
       "  <tbody>\n",
       "    <tr>\n",
       "      <th>0</th>\n",
       "      <td>1</td>\n",
       "      <td>0</td>\n",
       "      <td>user father dysfunct selfish drag kid dysfunct...</td>\n",
       "    </tr>\n",
       "    <tr>\n",
       "      <th>1</th>\n",
       "      <td>2</td>\n",
       "      <td>0</td>\n",
       "      <td>user user thank lyft credit cant use caus dont...</td>\n",
       "    </tr>\n",
       "    <tr>\n",
       "      <th>2</th>\n",
       "      <td>3</td>\n",
       "      <td>0</td>\n",
       "      <td>bihday majesti</td>\n",
       "    </tr>\n",
       "    <tr>\n",
       "      <th>3</th>\n",
       "      <td>4</td>\n",
       "      <td>0</td>\n",
       "      <td>model love u take u time urð± ðððð...</td>\n",
       "    </tr>\n",
       "    <tr>\n",
       "      <th>4</th>\n",
       "      <td>5</td>\n",
       "      <td>0</td>\n",
       "      <td>factsguid societi motiv</td>\n",
       "    </tr>\n",
       "  </tbody>\n",
       "</table>\n",
       "</div>"
      ],
      "text/plain": [
       "   id  label                                              tweet\n",
       "0   1      0  user father dysfunct selfish drag kid dysfunct...\n",
       "1   2      0  user user thank lyft credit cant use caus dont...\n",
       "2   3      0                                     bihday majesti\n",
       "3   4      0  model love u take u time urð± ðððð...\n",
       "4   5      0                            factsguid societi motiv"
      ]
     },
     "execution_count": 9,
     "metadata": {},
     "output_type": "execute_result"
    }
   ],
   "source": [
    "# looking at the new dataframe\n",
    "data.head()"
   ]
  },
  {
   "cell_type": "markdown",
   "id": "0a7a1af6",
   "metadata": {},
   "source": [
    "####  CHECKING THE UNIQUE VALUES FOR THE TARGET VARIABLES FOR THE MAPPING FUNCTION BELOW."
   ]
  },
  {
   "cell_type": "code",
   "execution_count": 10,
   "id": "2d869ce3",
   "metadata": {},
   "outputs": [
    {
     "name": "stdout",
     "output_type": "stream",
     "text": [
      "Number of Ratings: [0 1]\n"
     ]
    }
   ],
   "source": [
    "print(f\"Number of Ratings: {data['label'].unique()}\")"
   ]
  },
  {
   "cell_type": "markdown",
   "id": "36fd7443",
   "metadata": {},
   "source": [
    "#### VISUALIZING THE LABEL COUNT"
   ]
  },
  {
   "cell_type": "code",
   "execution_count": 11,
   "id": "356d3ab9",
   "metadata": {},
   "outputs": [],
   "source": [
    "label_counts = data[\"label\"].value_counts()"
   ]
  },
  {
   "cell_type": "code",
   "execution_count": 12,
   "id": "aa03730d",
   "metadata": {},
   "outputs": [
    {
     "data": {
      "image/png": "[encoded data removed]",
      "text/plain": [
       "<Figure size 600x600 with 1 Axes>"
      ]
     },
     "metadata": {},
     "output_type": "display_data"
    }
   ],
   "source": [
    "# Create a custom function to display count and percentage\n",
    "def autopct_format(pct, all_vals):\n",
    "    absolute = int(round(pct / 100. * sum(all_vals)))\n",
    "    return f\"{absolute}\\n({pct:.1f}%)\"\n",
    "\n",
    "# Define custom colors\n",
    "colors = [\"#ff9999\", \"#66b3ff\", \"#99ff99\", \"#ffcc99\"]\n",
    "\n",
    "# Create plot\n",
    "plt.figure(figsize=(6, 6))\n",
    "plt.pie(\n",
    "    label_counts, \n",
    "    labels=label_counts.index, \n",
    "    autopct=lambda pct: autopct_format(pct, label_counts), \n",
    "    startangle=140,\n",
    "    colors=colors\n",
    ")\n",
    "plt.title(\"Label Distribution\")\n",
    "plt.axis(\"equal\")\n",
    "plt.show()"
   ]
  },
  {
   "cell_type": "markdown",
   "id": "1566a8a8",
   "metadata": {},
   "source": [
    "#### TARGET VARIABLE DISTRIBUTION"
   ]
  },
  {
   "cell_type": "code",
   "execution_count": 13,
   "id": "5810a67d",
   "metadata": {},
   "outputs": [
    {
     "data": {
      "image/png": "[encoded data removed]",
      "text/plain": [
       "<Figure size 640x480 with 1 Axes>"
      ]
     },
     "metadata": {},
     "output_type": "display_data"
    }
   ],
   "source": [
    "sns.histplot(data[\"label\"], bins=20)\n",
    "plt.title(\"Distribution of Target\", weight =\"bold\")\n",
    "plt.xlabel('Target')\n",
    "plt.ylabel('Frequency')\n",
    "plt.show()"
   ]
  },
  {
   "cell_type": "markdown",
   "id": "b25bb794",
   "metadata": {},
   "source": [
    "#### CHECKING FOR MISSING VALUES"
   ]
  },
  {
   "cell_type": "code",
   "execution_count": 14,
   "id": "34f4555d",
   "metadata": {},
   "outputs": [
    {
     "name": "stdout",
     "output_type": "stream",
     "text": [
      "       Missing Values  Proportion\n",
      "id                  0         0.0\n",
      "label               0         0.0\n",
      "tweet               0         0.0\n"
     ]
    }
   ],
   "source": [
    "# Counting missing values in each column\n",
    "missing_values_count = data.isnull().sum()\n",
    "\n",
    "# Calculating the proportion of missing values for each column\n",
    "missing_values_proportion= data.isnull().sum() / len(data)\n",
    "\n",
    "# Combining count and proportion into one DataFrame for a clean summary\n",
    "missing_values_summary = pd.DataFrame({\n",
    "    'Missing Values': missing_values_count,\n",
    "    'Proportion': missing_values_proportion\n",
    "})\n",
    "# Displaying the summary table\n",
    "print(missing_values_summary)"
   ]
  },
  {
   "cell_type": "code",
   "execution_count": 15,
   "id": "d3dd302f",
   "metadata": {},
   "outputs": [
    {
     "name": "stdout",
     "output_type": "stream",
     "text": [
      "<class 'pandas.core.frame.DataFrame'>\n",
      "RangeIndex: 31962 entries, 0 to 31961\n",
      "Data columns (total 3 columns):\n",
      " #   Column  Non-Null Count  Dtype \n",
      "---  ------  --------------  ----- \n",
      " 0   id      31962 non-null  int64 \n",
      " 1   label   31962 non-null  int64 \n",
      " 2   tweet   31962 non-null  object\n",
      "dtypes: int64(2), object(1)\n",
      "memory usage: 749.2+ KB\n"
     ]
    }
   ],
   "source": [
    "# checking the data type for correctness\n",
    "data.info()"
   ]
  },
  {
   "cell_type": "markdown",
   "id": "15f7da34",
   "metadata": {},
   "source": [
    "### DATA SPLITTING INTO DEPENDENT AND INDEPENDENT VARIABLES FOR MODEL TRAINING AND TESTING"
   ]
  },
  {
   "cell_type": "code",
   "execution_count": 16,
   "id": "8ce5b4ed",
   "metadata": {},
   "outputs": [],
   "source": [
    "# convert text data to TF-IDF features\n",
    "vectorizer = TfidfVectorizer(stop_words=\"english\")"
   ]
  },
  {
   "cell_type": "code",
   "execution_count": 17,
   "id": "768b9871",
   "metadata": {},
   "outputs": [],
   "source": [
    "# separates the dependent and the independent variables\n",
    "X = data[\"tweet\"] #independent columns\n",
    "y = data[\"label\"] #target"
   ]
  },
  {
   "cell_type": "code",
   "execution_count": 18,
   "id": "feff40e1",
   "metadata": {},
   "outputs": [],
   "source": [
    "X = vectorizer.fit_transform(X)"
   ]
  },
  {
   "cell_type": "code",
   "execution_count": 19,
   "id": "a9e4a9ff",
   "metadata": {},
   "outputs": [],
   "source": [
    "# splits the data into train and test sets\n",
    "X_train, X_test, y_train, y_test = train_test_split(X, y, test_size=0.3, random_state=46)"
   ]
  },
  {
   "cell_type": "code",
   "execution_count": 20,
   "id": "e4268947",
   "metadata": {},
   "outputs": [
    {
     "data": {
      "text/plain": [
       "(22373, 37402)"
      ]
     },
     "execution_count": 20,
     "metadata": {},
     "output_type": "execute_result"
    }
   ],
   "source": [
    "# checking the shape of the train set\n",
    "X_train.shape"
   ]
  },
  {
   "cell_type": "code",
   "execution_count": 21,
   "id": "4e904502",
   "metadata": {},
   "outputs": [
    {
     "data": {
      "text/plain": [
       "(22373,)"
      ]
     },
     "execution_count": 21,
     "metadata": {},
     "output_type": "execute_result"
    }
   ],
   "source": [
    "# checking the shape of the train set\n",
    "y_train.shape"
   ]
  },
  {
   "cell_type": "markdown",
   "id": "198e29b3",
   "metadata": {},
   "source": [
    "### APPLYING THE RANDOM SAMPLER TO HANDLE DATA IMBALANCE"
   ]
  },
  {
   "cell_type": "code",
   "execution_count": 22,
   "id": "490017e0",
   "metadata": {},
   "outputs": [],
   "source": [
    "# initialize random sampler\n",
    "ros = RandomOverSampler(random_state=46)"
   ]
  },
  {
   "cell_type": "code",
   "execution_count": 23,
   "id": "60f0b1e5",
   "metadata": {},
   "outputs": [],
   "source": [
    "# fit the resample on the training data\n",
    "X_train_resampled, y_train_resampled = ros.fit_resample(X_train, y_train)"
   ]
  },
  {
   "cell_type": "markdown",
   "id": "d55849a2",
   "metadata": {},
   "source": [
    "### VISUALIZING THE BALANCED SAMPLED DATA"
   ]
  },
  {
   "cell_type": "code",
   "execution_count": 24,
   "id": "41ab13f4",
   "metadata": {},
   "outputs": [],
   "source": [
    "# initialize the value counts of the labels\n",
    "label_counts = y_train_resampled.value_counts()"
   ]
  },
  {
   "cell_type": "code",
   "execution_count": 25,
   "id": "c976cc1c",
   "metadata": {},
   "outputs": [
    {
     "data": {
      "image/png": "[encoded data removed]",
      "text/plain": [
       "<Figure size 600x600 with 1 Axes>"
      ]
     },
     "metadata": {},
     "output_type": "display_data"
    }
   ],
   "source": [
    "# Create a custom function to display count and percentage\n",
    "def autopct_format(pct, all_vals):\n",
    "    absolute = int(round(pct / 100. * sum(all_vals)))\n",
    "    return f\"{absolute}\\n({pct:.1f}%)\"\n",
    "\n",
    "# Define custom colors\n",
    "colors = [\"#ff9999\", \"#66b3ff\", \"#99ff99\", \"#ffcc99\"]\n",
    "\n",
    "# Create plot\n",
    "plt.figure(figsize=(6, 6))\n",
    "plt.pie(\n",
    "    label_counts, \n",
    "    labels=label_counts.index, \n",
    "    autopct=lambda pct: autopct_format(pct, label_counts), \n",
    "    startangle=140,\n",
    "    colors=colors\n",
    ")\n",
    "plt.title(\"Label Distribution\")\n",
    "plt.axis(\"equal\")\n",
    "plt.show()"
   ]
  },
  {
   "cell_type": "markdown",
   "id": "a3015a8b",
   "metadata": {},
   "source": [
    "# CLASSICAL MACHINE LEARNING ALGORITHMS"
   ]
  },
  {
   "cell_type": "markdown",
   "id": "a75dc53d",
   "metadata": {},
   "source": [
    "### MULTINOMIAL NAIVE BAYES"
   ]
  },
  {
   "cell_type": "code",
   "execution_count": 26,
   "id": "2762497d",
   "metadata": {},
   "outputs": [],
   "source": [
    "# train the naive model\n",
    "nb_model = MultinomialNB()\n",
    "\n",
    "# start tracking the CPU usage and time\n",
    "cpu_percentage = []\n",
    "start_time = time.time()\n",
    "\n",
    "# creating a function to track the average cpu\n",
    "def cpu_tracker(interval=0.1):\n",
    "    while True:\n",
    "        cpu_percentage.append(psutil.cpu_percent(interval=interval))\n",
    "        \n",
    "# start CPU tracking in a separate thread\n",
    "tracker_thread = threading.Thread(target=cpu_tracker)\n",
    "tracker_thread.start()\n",
    "\n",
    "nb_model.fit(X_train_resampled, y_train_resampled)\n",
    "\n",
    "# end the time tracker\n",
    "end_time = time.time()\n",
    "\n",
    "# stop CPU tracking\n",
    "tracker_thread.join(timeout=0)\n",
    "\n",
    "# calculate time taken and average CPU usage\n",
    "training_time = end_time - start_time\n",
    "average_CPU_usage = sum(cpu_percentage) / len(cpu_percentage) if cpu_percentage else 0"
   ]
  },
  {
   "cell_type": "code",
   "execution_count": 27,
   "id": "738c792a",
   "metadata": {},
   "outputs": [
    {
     "name": "stdout",
     "output_type": "stream",
     "text": [
      "Time taken to train the model: 0.01 seconds\n",
      "Average CPU usage during training: 0.00%\n"
     ]
    }
   ],
   "source": [
    "print(f\"Time taken to train the model: {training_time:.2f} seconds\")\n",
    "print(f\"Average CPU usage during training: {average_CPU_usage:.2f}%\")"
   ]
  },
  {
   "cell_type": "markdown",
   "id": "e979c5a4",
   "metadata": {},
   "source": [
    "#### TRAIN ACCURACY"
   ]
  },
  {
   "cell_type": "code",
   "execution_count": 27,
   "id": "7ab15415",
   "metadata": {},
   "outputs": [
    {
     "name": "stdout",
     "output_type": "stream",
     "text": [
      "Train Accuracy: 94.61%\n"
     ]
    }
   ],
   "source": [
    "# evaluate the model train predictions\n",
    "y_pred = nb_model.predict(X_train)\n",
    "\n",
    "# evaluate the model accuracy\n",
    "accuracy = accuracy_score(y_train, y_pred)\n",
    "\n",
    "print(f\"Train Accuracy: {accuracy * 100:.2f}%\")"
   ]
  },
  {
   "cell_type": "markdown",
   "id": "4bc0d466",
   "metadata": {},
   "source": [
    "#### TEST ACCURACY"
   ]
  },
  {
   "cell_type": "code",
   "execution_count": 28,
   "id": "1b9ae9fc",
   "metadata": {},
   "outputs": [
    {
     "name": "stdout",
     "output_type": "stream",
     "text": [
      "Test Accuracy: 90.50%\n"
     ]
    }
   ],
   "source": [
    "# evaluate the model predictions\n",
    "y_pred = nb_model.predict(X_test)\n",
    "\n",
    "nb_accuracy = accuracy_score(y_test, y_pred)\n",
    "\n",
    "print(f\"Test Accuracy: {nb_accuracy * 100:.2f}%\")"
   ]
  },
  {
   "cell_type": "code",
   "execution_count": 29,
   "id": "d3f25c97",
   "metadata": {},
   "outputs": [
    {
     "name": "stdout",
     "output_type": "stream",
     "text": [
      "Classification Report:\n",
      "               precision    recall  f1-score   support\n",
      "\n",
      "           0       0.98      0.91      0.95      8880\n",
      "           1       0.43      0.81      0.56       709\n",
      "\n",
      "    accuracy                           0.90      9589\n",
      "   macro avg       0.70      0.86      0.75      9589\n",
      "weighted avg       0.94      0.90      0.92      9589\n",
      "\n"
     ]
    }
   ],
   "source": [
    "# print the classification report\n",
    "print(\"Classification Report:\\n\", classification_report(y_test, y_pred, zero_division=1))"
   ]
  },
  {
   "cell_type": "markdown",
   "id": "e1e1ffe7",
   "metadata": {},
   "source": [
    "#### CONFUSION MATRIX"
   ]
  },
  {
   "cell_type": "code",
   "execution_count": 30,
   "id": "66b11f51",
   "metadata": {},
   "outputs": [
    {
     "data": {
      "image/png": "[encoded data removed]",
      "text/plain": [
       "<Figure size 800x600 with 2 Axes>"
      ]
     },
     "metadata": {},
     "output_type": "display_data"
    }
   ],
   "source": [
    "# computes the confusion matrix, which is a table that describes the performance of a classification model.\n",
    "c_matrix = confusion_matrix(y_test, y_pred)\n",
    "c_matrix_percentage = c_matrix.astype(\"float\") / c_matrix.sum(axis=1)[:, np.newaxis]\n",
    "# adjusts the figure size\n",
    "plt.figure(figsize=(8, 6))\n",
    "sns.heatmap(c_matrix_percentage, annot=True, cmap=\"coolwarm\", fmt=\".2%\", cbar=True, xticklabels=label_counts.index, yticklabels=label_counts.index)\n",
    "plt.title(\"CONFUSION MATRIX\")\n",
    "plt.ylabel(\"True label\")\n",
    "plt.xlabel(\"predicted label\")\n",
    "plt.show()"
   ]
  },
  {
   "cell_type": "markdown",
   "id": "7f8ca578",
   "metadata": {},
   "source": [
    "#### ROC CURVE"
   ]
  },
  {
   "cell_type": "code",
   "execution_count": 31,
   "id": "3187bc4b",
   "metadata": {},
   "outputs": [
    {
     "data": {
      "image/png": "[encoded data removed]",
      "text/plain": [
       "<Figure size 640x480 with 1 Axes>"
      ]
     },
     "metadata": {},
     "output_type": "display_data"
    }
   ],
   "source": [
    "fp, tp, thresholds = roc_curve(y_test, y_pred)\n",
    "roc_auc = roc_auc_score(y_test, y_pred)\n",
    "plt.figure()\n",
    "plt.plot(fp, tp, color=\"blue\", lw=2, label=\"roc curve (AUC = {:.2f})\".format(roc_auc))\n",
    "plt.plot([0, 1], [0, 1], color=\"orange\", lw=2, linestyle=\"--\")\n",
    "plt.xlabel(\"False Positive\")\n",
    "plt.ylabel(\"True Positive\")\n",
    "plt.title(\"roc curve for the naive bayes model\")\n",
    "plt.legend()\n",
    "plt.show()"
   ]
  },
  {
   "cell_type": "markdown",
   "id": "15bfa00b",
   "metadata": {},
   "source": [
    "### LOGISTIC REGRESSION"
   ]
  },
  {
   "cell_type": "code",
   "execution_count": 32,
   "id": "32ac0bb0",
   "metadata": {},
   "outputs": [],
   "source": [
    "# train the logistic regression model\n",
    "lr_model = LogisticRegression(max_iter=10000)\n",
    "\n",
    "# start tracking the CPU usage and time\n",
    "cpu_percentage = []\n",
    "start_time = time.time()\n",
    "\n",
    "# creating a function to track the average cpu\n",
    "def cpu_tracker(interval=0.1):\n",
    "    while True:\n",
    "        cpu_percentage.append(psutil.cpu_percent(interval=interval))\n",
    "        \n",
    "# start CPU tracking in a separate thread\n",
    "tracker_thread = threading.Thread(target=cpu_tracker)\n",
    "tracker_thread.start()\n",
    "\n",
    "lr_model.fit(X_train_resampled, y_train_resampled)\n",
    "\n",
    "# end the time tracker\n",
    "end_time = time.time()\n",
    "\n",
    "# stop CPU tracking\n",
    "tracker_thread.join(timeout=0)\n",
    "\n",
    "# calculate time taken and average CPU usage\n",
    "training_time = end_time - start_time\n",
    "average_CPU_usage = sum(cpu_percentage) / len(cpu_percentage) if cpu_percentage else 0"
   ]
  },
  {
   "cell_type": "code",
   "execution_count": 33,
   "id": "3b9c521c",
   "metadata": {},
   "outputs": [
    {
     "name": "stdout",
     "output_type": "stream",
     "text": [
      "Time taken to train the model: 0.62 seconds\n",
      "Average CPU usage during training: 52.17%\n"
     ]
    }
   ],
   "source": [
    "print(f\"Time taken to train the model: {training_time:.2f} seconds\")\n",
    "print(f\"Average CPU usage during training: {average_CPU_usage:.2f}%\")"
   ]
  },
  {
   "cell_type": "markdown",
   "id": "ed865a88",
   "metadata": {},
   "source": [
    "#### TRAIN ACCURACY"
   ]
  },
  {
   "cell_type": "code",
   "execution_count": 34,
   "id": "69c49e71",
   "metadata": {},
   "outputs": [
    {
     "name": "stdout",
     "output_type": "stream",
     "text": [
      "Train Accuracy: 97.67%\n"
     ]
    }
   ],
   "source": [
    "# evaluate the model train predictions\n",
    "y_pred = lr_model.predict(X_train)\n",
    "\n",
    "# evaluate the model accuracy\n",
    "accuracy = accuracy_score(y_train, y_pred)\n",
    "\n",
    "print(f\"Train Accuracy: {accuracy * 100:.2f}%\")"
   ]
  },
  {
   "cell_type": "markdown",
   "id": "1143f6d5",
   "metadata": {},
   "source": [
    "#### TEST ACCURACY"
   ]
  },
  {
   "cell_type": "code",
   "execution_count": 35,
   "id": "14dbde50",
   "metadata": {},
   "outputs": [
    {
     "name": "stdout",
     "output_type": "stream",
     "text": [
      "Test Accuracy: 94.69%\n"
     ]
    }
   ],
   "source": [
    "# evaluate the model predictions\n",
    "y_pred = lr_model.predict(X_test)\n",
    "\n",
    "lr_accuracy = accuracy_score(y_test, y_pred)\n",
    "\n",
    "print(f\"Test Accuracy: {lr_accuracy * 100:.2f}%\")"
   ]
  },
  {
   "cell_type": "code",
   "execution_count": 36,
   "id": "f0e3b61d",
   "metadata": {},
   "outputs": [
    {
     "name": "stdout",
     "output_type": "stream",
     "text": [
      "Classification Report:\n",
      "               precision    recall  f1-score   support\n",
      "\n",
      "           0       0.98      0.97      0.97      8880\n",
      "           1       0.62      0.71      0.66       709\n",
      "\n",
      "    accuracy                           0.95      9589\n",
      "   macro avg       0.80      0.84      0.82      9589\n",
      "weighted avg       0.95      0.95      0.95      9589\n",
      "\n"
     ]
    }
   ],
   "source": [
    "# print the classification report\n",
    "print(\"Classification Report:\\n\", classification_report(y_test, y_pred, zero_division=1))"
   ]
  },
  {
   "cell_type": "markdown",
   "id": "02c8202a",
   "metadata": {},
   "source": [
    "#### CONFUSION MATRIX"
   ]
  },
  {
   "cell_type": "code",
   "execution_count": 37,
   "id": "87104373",
   "metadata": {},
   "outputs": [
    {
     "data": {
      "image/png": "[encoded data removed]",
      "text/plain": [
       "<Figure size 800x600 with 2 Axes>"
      ]
     },
     "metadata": {},
     "output_type": "display_data"
    }
   ],
   "source": [
    "# computes the confusion matrix, which is a table that describes the performance of a classification model.\n",
    "c_matrix = confusion_matrix(y_test, y_pred)\n",
    "c_matrix_percentage = c_matrix.astype(\"float\") / c_matrix.sum(axis=1)[:, np.newaxis]\n",
    "# adjusts the figure size\n",
    "plt.figure(figsize=(8, 6))\n",
    "sns.heatmap(c_matrix_percentage, annot=True, cmap=\"coolwarm\", fmt=\".2%\", cbar=True, xticklabels=label_counts.index, yticklabels=label_counts.index)\n",
    "plt.title(\"CONFUSION MATRIX\")\n",
    "plt.ylabel(\"True label\")\n",
    "plt.xlabel(\"predicted label\")\n",
    "plt.show()"
   ]
  },
  {
   "cell_type": "markdown",
   "id": "aa92278d",
   "metadata": {},
   "source": [
    "#### ROC CURVE"
   ]
  },
  {
   "cell_type": "code",
   "execution_count": 38,
   "id": "d4a2ccec",
   "metadata": {},
   "outputs": [
    {
     "data": {
      "image/png": "[encoded data removed]",
      "text/plain": [
       "<Figure size 640x480 with 1 Axes>"
      ]
     },
     "metadata": {},
     "output_type": "display_data"
    }
   ],
   "source": [
    "fp, tp, thresholds = roc_curve(y_test, y_pred)\n",
    "roc_auc = roc_auc_score(y_test, y_pred)\n",
    "plt.figure()\n",
    "plt.plot(fp, tp, color=\"blue\", lw=2, label=\"roc curve (AUC = {:.2f})\".format(roc_auc))\n",
    "plt.plot([0, 1], [0, 1], color=\"orange\", lw=2, linestyle=\"--\")\n",
    "plt.xlabel(\"False Positive\")\n",
    "plt.ylabel(\"True Positive\")\n",
    "plt.title(\"roc curve for the logistic regression model\")\n",
    "plt.legend()\n",
    "plt.show()"
   ]
  },
  {
   "cell_type": "markdown",
   "id": "b4698fb5",
   "metadata": {},
   "source": [
    "### RANDOM FOREST CLASSIFIER"
   ]
  },
  {
   "cell_type": "code",
   "execution_count": 39,
   "id": "7d45870c",
   "metadata": {},
   "outputs": [],
   "source": [
    "rf_model = RandomForestClassifier()\n",
    "\n",
    "# start tracking the CPU usage and time\n",
    "cpu_percentage = []\n",
    "start_time = time.time()\n",
    "\n",
    "# creating a function to track the average cpu\n",
    "def cpu_tracker(interval=0.1):\n",
    "    while True:\n",
    "        cpu_percentage.append(psutil.cpu_percent(interval=interval))\n",
    "        \n",
    "# start CPU tracking in a separate thread\n",
    "tracker_thread = threading.Thread(target=cpu_tracker)\n",
    "tracker_thread.start()\n",
    "\n",
    "rf_model.fit(X_train_resampled, y_train_resampled)\n",
    "\n",
    "# end the time tracker\n",
    "end_time = time.time()\n",
    "\n",
    "# stop CPU tracking\n",
    "tracker_thread.join(timeout=0)\n",
    "\n",
    "# calculate time taken and average CPU usage\n",
    "training_time = end_time - start_time\n",
    "average_CPU_usage = sum(cpu_percentage) / len(cpu_percentage) if cpu_percentage else 0"
   ]
  },
  {
   "cell_type": "code",
   "execution_count": 40,
   "id": "dfaf3548",
   "metadata": {},
   "outputs": [
    {
     "name": "stdout",
     "output_type": "stream",
     "text": [
      "Time taken to train the model: 205.68 seconds\n",
      "Average CPU usage during training: 36.41%\n"
     ]
    }
   ],
   "source": [
    "print(f\"Time taken to train the model: {training_time:.2f} seconds\")\n",
    "print(f\"Average CPU usage during training: {average_CPU_usage:.2f}%\")"
   ]
  },
  {
   "cell_type": "markdown",
   "id": "7b1f4155",
   "metadata": {},
   "source": [
    "#### TRAIN ACCURACY"
   ]
  },
  {
   "cell_type": "code",
   "execution_count": 41,
   "id": "0910c9ac",
   "metadata": {},
   "outputs": [
    {
     "name": "stdout",
     "output_type": "stream",
     "text": [
      "Train Accuracy: 99.83%\n"
     ]
    }
   ],
   "source": [
    "# evaluate the model train predictions\n",
    "y_pred = rf_model.predict(X_train)\n",
    "\n",
    "# evaluate the model accuracy\n",
    "accuracy = accuracy_score(y_train, y_pred)\n",
    "\n",
    "print(f\"Train Accuracy: {accuracy * 100:.2f}%\")"
   ]
  },
  {
   "cell_type": "markdown",
   "id": "9634aea7",
   "metadata": {},
   "source": [
    "#### TEST ACCURACY"
   ]
  },
  {
   "cell_type": "code",
   "execution_count": 42,
   "id": "2590b526",
   "metadata": {},
   "outputs": [
    {
     "name": "stdout",
     "output_type": "stream",
     "text": [
      "Test Accuracy: 94.11%\n"
     ]
    }
   ],
   "source": [
    "# evaluate the model predictions\n",
    "y_pred = rf_model.predict(X_test)\n",
    "\n",
    "rf_accuracy = accuracy_score(y_test, y_pred)\n",
    "\n",
    "print(f\"Test Accuracy: {rf_accuracy * 100:.2f}%\")"
   ]
  },
  {
   "cell_type": "code",
   "execution_count": 43,
   "id": "a4970af4",
   "metadata": {},
   "outputs": [
    {
     "name": "stdout",
     "output_type": "stream",
     "text": [
      "Classification Report:\n",
      "               precision    recall  f1-score   support\n",
      "\n",
      "           0       0.96      0.98      0.97      8880\n",
      "           1       0.63      0.50      0.56       709\n",
      "\n",
      "    accuracy                           0.94      9589\n",
      "   macro avg       0.79      0.74      0.76      9589\n",
      "weighted avg       0.94      0.94      0.94      9589\n",
      "\n"
     ]
    }
   ],
   "source": [
    "# print the classification report\n",
    "print(\"Classification Report:\\n\", classification_report(y_test, y_pred, zero_division=1))"
   ]
  },
  {
   "cell_type": "markdown",
   "id": "af7e8d77",
   "metadata": {},
   "source": [
    "#### CONFUSION MATRIX"
   ]
  },
  {
   "cell_type": "code",
   "execution_count": 44,
   "id": "6a948bf3",
   "metadata": {},
   "outputs": [
    {
     "data": {
      "image/png": "[encoded data removed]",
      "text/plain": [
       "<Figure size 800x600 with 2 Axes>"
      ]
     },
     "metadata": {},
     "output_type": "display_data"
    }
   ],
   "source": [
    "# computes the confusion matrix, which is a table that describes the performance of a classification model.\n",
    "c_matrix = confusion_matrix(y_test, y_pred)\n",
    "c_matrix_percentage = c_matrix.astype(\"float\") / c_matrix.sum(axis=1)[:, np.newaxis]\n",
    "# adjusts the figure size\n",
    "plt.figure(figsize=(8, 6))\n",
    "sns.heatmap(c_matrix_percentage, annot=True, cmap=\"coolwarm\", fmt=\".2%\", cbar=True, xticklabels=label_counts.index, yticklabels=label_counts.index)\n",
    "plt.title(\"CONFUSION MATRIX\")\n",
    "plt.ylabel(\"True label\")\n",
    "plt.xlabel(\"predicted label\")\n",
    "plt.show()"
   ]
  },
  {
   "cell_type": "markdown",
   "id": "c38d0880",
   "metadata": {},
   "source": [
    "#### ROC CURVE"
   ]
  },
  {
   "cell_type": "code",
   "execution_count": 45,
   "id": "f9afa174",
   "metadata": {},
   "outputs": [
    {
     "data": {
      "image/png": "[encoded data removed]",
      "text/plain": [
       "<Figure size 640x480 with 1 Axes>"
      ]
     },
     "metadata": {},
     "output_type": "display_data"
    }
   ],
   "source": [
    "fp, tp, thresholds = roc_curve(y_test, y_pred)\n",
    "roc_auc = roc_auc_score(y_test, y_pred)\n",
    "plt.figure()\n",
    "plt.plot(fp, tp, color=\"blue\", lw=2, label=\"roc curve (AUC = {:.2f})\".format(roc_auc))\n",
    "plt.plot([0, 1], [0, 1], color=\"orange\", lw=2, linestyle=\"--\")\n",
    "plt.xlabel(\"False Positive\")\n",
    "plt.ylabel(\"True Positive\")\n",
    "plt.title(\"roc curve for the random forest model\")\n",
    "plt.legend()\n",
    "plt.show()"
   ]
  },
  {
   "cell_type": "markdown",
   "id": "6b190141",
   "metadata": {},
   "source": [
    "### EXTREME GRADIENT BOOSTING CLASSIFIER"
   ]
  },
  {
   "cell_type": "code",
   "execution_count": 46,
   "id": "43e540fe",
   "metadata": {},
   "outputs": [],
   "source": [
    "xgb_model = XGBClassifier(learning_rate = 0.001, max_depth = 100, n_estimators = 300)\n",
    "\n",
    "# start tracking the CPU usage and time\n",
    "cpu_percentage = []\n",
    "start_time = time.time()\n",
    "\n",
    "# creating a function to track the average cpu\n",
    "def cpu_tracker(interval=0.1):\n",
    "    while True:\n",
    "        cpu_percentage.append(psutil.cpu_percent(interval=interval))\n",
    "        \n",
    "# start CPU tracking in a separate thread\n",
    "tracker_thread = threading.Thread(target=cpu_tracker)\n",
    "tracker_thread.start()\n",
    "\n",
    "xgb_model.fit(X_train_resampled, y_train_resampled)\n",
    "\n",
    "# end the time tracker\n",
    "end_time = time.time()\n",
    "\n",
    "# stop CPU tracking\n",
    "tracker_thread.join(timeout=0)\n",
    "\n",
    "# calculate time taken and average CPU usage\n",
    "training_time = end_time - start_time\n",
    "average_CPU_usage = sum(cpu_percentage) / len(cpu_percentage) if cpu_percentage else 0"
   ]
  },
  {
   "cell_type": "code",
   "execution_count": 47,
   "id": "0e286985",
   "metadata": {},
   "outputs": [
    {
     "name": "stdout",
     "output_type": "stream",
     "text": [
      "Time taken to train the model: 1098.15 seconds\n",
      "Average CPU usage during training: 96.28%\n"
     ]
    }
   ],
   "source": [
    "print(f\"Time taken to train the model: {training_time:.2f} seconds\")\n",
    "print(f\"Average CPU usage during training: {average_CPU_usage:.2f}%\")"
   ]
  },
  {
   "cell_type": "markdown",
   "id": "bc2e83e1",
   "metadata": {},
   "source": [
    "#### TRAIN ACCURACY"
   ]
  },
  {
   "cell_type": "code",
   "execution_count": 48,
   "id": "996725b6",
   "metadata": {},
   "outputs": [
    {
     "name": "stdout",
     "output_type": "stream",
     "text": [
      "Train Accuracy: 97.35%\n"
     ]
    }
   ],
   "source": [
    "# evaluate the model train predictions\n",
    "y_pred = xgb_model.predict(X_train)\n",
    "\n",
    "# evaluate the model accuracy\n",
    "accuracy = accuracy_score(y_train, y_pred)\n",
    "\n",
    "print(f\"Train Accuracy: {accuracy * 100:.2f}%\")"
   ]
  },
  {
   "cell_type": "markdown",
   "id": "f8b48819",
   "metadata": {},
   "source": [
    "#### TEST ACCURACY"
   ]
  },
  {
   "cell_type": "code",
   "execution_count": 49,
   "id": "954f11f9",
   "metadata": {},
   "outputs": [
    {
     "name": "stdout",
     "output_type": "stream",
     "text": [
      "Accuracy: 92.76%\n"
     ]
    }
   ],
   "source": [
    "# evaluate the model predictions\n",
    "y_pred = xgb_model.predict(X_test)\n",
    "\n",
    "xgb_accuracy = accuracy_score(y_test, y_pred)\n",
    "\n",
    "print(f\"Accuracy: {xgb_accuracy * 100:.2f}%\")"
   ]
  },
  {
   "cell_type": "code",
   "execution_count": 50,
   "id": "7d92d2b3",
   "metadata": {},
   "outputs": [
    {
     "name": "stdout",
     "output_type": "stream",
     "text": [
      "Classification Report:\n",
      "               precision    recall  f1-score   support\n",
      "\n",
      "           0       0.96      0.96      0.96      8880\n",
      "           1       0.51      0.51      0.51       709\n",
      "\n",
      "    accuracy                           0.93      9589\n",
      "   macro avg       0.74      0.73      0.74      9589\n",
      "weighted avg       0.93      0.93      0.93      9589\n",
      "\n"
     ]
    }
   ],
   "source": [
    "# print the classification report\n",
    "print(\"Classification Report:\\n\", classification_report(y_test, y_pred, zero_division=1))"
   ]
  },
  {
   "cell_type": "markdown",
   "id": "1f13457a",
   "metadata": {},
   "source": [
    "#### CONFUSION MATRIX"
   ]
  },
  {
   "cell_type": "code",
   "execution_count": 51,
   "id": "5d64bb9b",
   "metadata": {},
   "outputs": [
    {
     "data": {
      "image/png": "[encoded data removed]",
      "text/plain": [
       "<Figure size 800x600 with 2 Axes>"
      ]
     },
     "metadata": {},
     "output_type": "display_data"
    }
   ],
   "source": [
    "# computes the confusion matrix, which is a table that describes the performance of a classification model.\n",
    "c_matrix = confusion_matrix(y_test, y_pred)\n",
    "c_matrix_percentage = c_matrix.astype(\"float\") / c_matrix.sum(axis=1)[:, np.newaxis]\n",
    "# adjusts the figure size\n",
    "plt.figure(figsize=(8, 6))\n",
    "sns.heatmap(c_matrix_percentage, annot=True, cmap=\"coolwarm\", fmt=\".2%\", cbar=True, xticklabels=label_counts.index, yticklabels=label_counts.index)\n",
    "plt.title(\"CONFUSION MATRIX\")\n",
    "plt.ylabel(\"True label\")\n",
    "plt.xlabel(\"predicted label\")\n",
    "plt.show()"
   ]
  },
  {
   "cell_type": "markdown",
   "id": "a7d4746e",
   "metadata": {},
   "source": [
    "#### ROC CURVE"
   ]
  },
  {
   "cell_type": "code",
   "execution_count": 52,
   "id": "c7839cd6",
   "metadata": {},
   "outputs": [
    {
     "data": {
      "image/png": "[encoded data removed]",
      "text/plain": [
       "<Figure size 640x480 with 1 Axes>"
      ]
     },
     "metadata": {},
     "output_type": "display_data"
    }
   ],
   "source": [
    "fp, tp, thresholds = roc_curve(y_test, y_pred)\n",
    "roc_auc = roc_auc_score(y_test, y_pred)\n",
    "plt.figure()\n",
    "plt.plot(fp, tp, color=\"blue\", lw=2, label=\"roc curve (AUC = {:.2f})\".format(roc_auc))\n",
    "plt.plot([0, 1], [0, 1], color=\"orange\", lw=2, linestyle=\"--\")\n",
    "plt.xlabel(\"False Positive\")\n",
    "plt.ylabel(\"True Positive\")\n",
    "plt.title(\"roc curve for the extreme gradient boosting model\")\n",
    "plt.legend()\n",
    "plt.show()"
   ]
  },
  {
   "cell_type": "markdown",
   "id": "5d3481fb",
   "metadata": {},
   "source": [
    "#### GENERAL ROC"
   ]
  },
  {
   "cell_type": "code",
   "execution_count": 58,
   "id": "46133b00",
   "metadata": {},
   "outputs": [
    {
     "data": {
      "image/png": "[encoded data removed]",
      "text/plain": [
       "<Figure size 800x500 with 1 Axes>"
      ]
     },
     "metadata": {},
     "output_type": "display_data"
    }
   ],
   "source": [
    "from sklearn import metrics\n",
    "plt.figure(figsize=(8,5))\n",
    "models = [\n",
    "{\n",
    "    'label': 'LR',\n",
    "    'model': lr_model,\n",
    "},\n",
    "{\n",
    "    'label': 'NB',\n",
    "    'model': nb_model,\n",
    "},\n",
    "{\n",
    "    'label': 'XGBoost',\n",
    "    'model': xgb_model,\n",
    "},\n",
    "{\n",
    "    'label': 'RF',\n",
    "    'model': rf_model,\n",
    "}\n",
    "    \n",
    "]\n",
    "for m in models:\n",
    "    model = m['model'] \n",
    "    model.fit(X_train, y_train) \n",
    "    y_pred=model.predict(X_test) \n",
    "    fpr1, tpr1, thresholds = metrics.roc_curve(y_test, model.predict_proba(X_test)[:,1])\n",
    "    auc = metrics.roc_auc_score(y_test,model.predict(X_test))\n",
    "    plt.plot(fpr1, tpr1, label='%s - ROC (area = %0.2f)' % (m['label'], auc))\n",
    "\n",
    "plt.plot([0, 1], [0, 1],'r--')\n",
    "plt.xlim([-0.01, 1.0])\n",
    "plt.ylim([0.0, 1.05])\n",
    "plt.xlabel('1 - Specificity (False Positive Rate)', fontsize=12)\n",
    "plt.ylabel('Sensitivity (True Positive Rate)', fontsize=12)\n",
    "plt.title('ROC - SENTIMENT ANALYSIS DATA', fontsize=12)\n",
    "plt.legend(loc=\"lower right\", fontsize=12)\n",
    "plt.savefig(\"roc_reviews.jpeg\", format='jpeg', dpi=400, bbox_inches='tight')\n",
    "plt.show()"
   ]
  },
  {
   "cell_type": "markdown",
   "id": "c150cb8f",
   "metadata": {},
   "source": [
    "# IMPLEMENTING THE TRANSFORMER NEURAL NETWORK (BERT AND DISTILBERT)"
   ]
  },
  {
   "cell_type": "code",
   "execution_count": 2,
   "id": "aef30add",
   "metadata": {},
   "outputs": [
    {
     "name": "stdout",
     "output_type": "stream",
     "text": [
      "Requirement already satisfied: protobuf in /home/feng/anaconda3/lib/python3.10/site-packages (3.19.6)\n",
      "Collecting protobuf\n",
      "  Downloading protobuf-5.29.2-cp38-abi3-manylinux2014_x86_64.whl.metadata (592 bytes)\n",
      "Downloading protobuf-5.29.2-cp38-abi3-manylinux2014_x86_64.whl (319 kB)\n",
      "Installing collected packages: protobuf\n",
      "  Attempting uninstall: protobuf\n",
      "    Found existing installation: protobuf 3.19.6\n",
      "    Uninstalling protobuf-3.19.6:\n",
      "      Successfully uninstalled protobuf-3.19.6\n",
      "\u001b[31mERROR: pip's dependency resolver does not currently take into account all the packages that are installed. This behaviour is the source of the following dependency conflicts.\n",
      "googleapis-common-protos 1.59.1 requires protobuf!=3.20.0,!=3.20.1,!=4.21.1,!=4.21.2,!=4.21.3,!=4.21.4,!=4.21.5,<5.0.0.dev0,>=3.19.5, but you have protobuf 5.29.2 which is incompatible.\n",
      "tensorflow 2.14.0 requires protobuf!=4.21.0,!=4.21.1,!=4.21.2,!=4.21.3,!=4.21.4,!=4.21.5,<5.0.0dev,>=3.20.3, but you have protobuf 5.29.2 which is incompatible.\u001b[0m\u001b[31m\n",
      "\u001b[0mSuccessfully installed protobuf-5.29.2\n",
      "\n",
      "\u001b[1m[\u001b[0m\u001b[34;49mnotice\u001b[0m\u001b[1;39;49m]\u001b[0m\u001b[39;49m A new release of pip is available: \u001b[0m\u001b[31;49m24.2\u001b[0m\u001b[39;49m -> \u001b[0m\u001b[32;49m24.3.1\u001b[0m\n",
      "\u001b[1m[\u001b[0m\u001b[34;49mnotice\u001b[0m\u001b[1;39;49m]\u001b[0m\u001b[39;49m To update, run: \u001b[0m\u001b[32;49mpip install --upgrade pip\u001b[0m\n",
      "Note: you may need to restart the kernel to use updated packages.\n"
     ]
    }
   ],
   "source": [
    "pip install --upgrade protobuf"
   ]
  },
  {
   "cell_type": "code",
   "execution_count": 28,
   "id": "1674cb68",
   "metadata": {
    "execution": {
     "iopub.execute_input": "2024-12-25T12:46:12.184505Z",
     "iopub.status.busy": "2024-12-25T12:46:12.184200Z",
     "iopub.status.idle": "2024-12-25T12:46:36.498877Z",
     "shell.execute_reply": "2024-12-25T12:46:36.498150Z",
     "shell.execute_reply.started": "2024-12-25T12:46:12.184483Z"
    }
   },
   "outputs": [],
   "source": [
    "from transformers import BertModel, BertTokenizer, get_linear_schedule_with_warmup, DistilBertTokenizer, DistilBertModel\n",
    "from transformers import DataCollatorWithPadding\n",
    "from torch.utils.data import Dataset, DataLoader\n",
    "import torch\n",
    "from torch import nn, optim\n",
    "from torch.utils.data import Dataset, DataLoader\n",
    "from torchvision import transforms\n",
    "import torch.nn.functional as F\n",
    "import numpy as np\n",
    "from tqdm.auto import tqdm"
   ]
  },
  {
   "cell_type": "markdown",
   "id": "ae712230",
   "metadata": {},
   "source": [
    "#### INITIALIZATIONS"
   ]
  },
  {
   "cell_type": "code",
   "execution_count": 29,
   "id": "44ff705a",
   "metadata": {
    "execution": {
     "iopub.execute_input": "2024-12-25T12:46:43.724354Z",
     "iopub.status.busy": "2024-12-25T12:46:43.723756Z",
     "iopub.status.idle": "2024-12-25T12:46:43.817508Z",
     "shell.execute_reply": "2024-12-25T12:46:43.816855Z",
     "shell.execute_reply.started": "2024-12-25T12:46:43.724325Z"
    }
   },
   "outputs": [],
   "source": [
    "# the random seed aids repetition and production of deterministic results \n",
    "RANDOM_SEED = 46\n",
    "np.random.seed(RANDOM_SEED)\n",
    "torch.manual_seed(RANDOM_SEED)\n",
    "# initialization of default training unit to CPU if GPU is not available\n",
    "device = torch.device(\"cuda\" if torch.cuda.is_available() else \"cpu\")\n",
    "MAX_LEN = 256\n",
    "BATCH_SIZE = 32"
   ]
  },
  {
   "cell_type": "markdown",
   "id": "fd35d11a",
   "metadata": {},
   "source": [
    "#### SPLITTING THE DATASET INTO TRAIN, VAL AND TEST"
   ]
  },
  {
   "cell_type": "code",
   "execution_count": 30,
   "id": "3db0bf01",
   "metadata": {
    "execution": {
     "iopub.execute_input": "2024-12-25T12:46:48.204040Z",
     "iopub.status.busy": "2024-12-25T12:46:48.203596Z",
     "iopub.status.idle": "2024-12-25T12:46:48.220519Z",
     "shell.execute_reply": "2024-12-25T12:46:48.219745Z",
     "shell.execute_reply.started": "2024-12-25T12:46:48.204000Z"
    }
   },
   "outputs": [],
   "source": [
    "df_train, df_temp = train_test_split(data, test_size=0.4, shuffle=True, random_state=RANDOM_SEED)"
   ]
  },
  {
   "cell_type": "code",
   "execution_count": 31,
   "id": "0b6f8fad",
   "metadata": {
    "execution": {
     "iopub.execute_input": "2024-12-25T12:46:51.248369Z",
     "iopub.status.busy": "2024-12-25T12:46:51.248067Z",
     "iopub.status.idle": "2024-12-25T12:46:51.255214Z",
     "shell.execute_reply": "2024-12-25T12:46:51.254497Z",
     "shell.execute_reply.started": "2024-12-25T12:46:51.248348Z"
    }
   },
   "outputs": [],
   "source": [
    "df_val, df_test = train_test_split(df_temp, test_size=0.5, shuffle=True, random_state=RANDOM_SEED)"
   ]
  },
  {
   "cell_type": "code",
   "execution_count": 32,
   "id": "903eb1ed",
   "metadata": {
    "execution": {
     "iopub.execute_input": "2024-12-25T12:46:54.911558Z",
     "iopub.status.busy": "2024-12-25T12:46:54.911157Z",
     "iopub.status.idle": "2024-12-25T12:46:54.916740Z",
     "shell.execute_reply": "2024-12-25T12:46:54.916034Z",
     "shell.execute_reply.started": "2024-12-25T12:46:54.911517Z"
    }
   },
   "outputs": [
    {
     "name": "stdout",
     "output_type": "stream",
     "text": [
      "(19177, 3) (6393, 3) (6392, 3)\n"
     ]
    }
   ],
   "source": [
    "print(df_train.shape, df_test.shape, df_val.shape)"
   ]
  },
  {
   "cell_type": "markdown",
   "id": "862e9a13",
   "metadata": {},
   "source": [
    "# CREATING A CUSTOM DATASET CLASS WITH RESPECT TO THE PYTORCH FRAMEWORK"
   ]
  },
  {
   "cell_type": "code",
   "execution_count": 33,
   "id": "1c5771bc",
   "metadata": {
    "execution": {
     "iopub.execute_input": "2024-12-25T12:47:00.996343Z",
     "iopub.status.busy": "2024-12-25T12:47:00.996005Z",
     "iopub.status.idle": "2024-12-25T12:47:01.003025Z",
     "shell.execute_reply": "2024-12-25T12:47:01.002295Z",
     "shell.execute_reply.started": "2024-12-25T12:47:00.996312Z"
    }
   },
   "outputs": [],
   "source": [
    "class SentimentDataset(Dataset):\n",
    "    def __init__(self, df, reviews, targets, tokenizer, max_len, model_type=\"bert\", include_raw_text=False):\n",
    "        \"\"\"\n",
    "        Initializes the dataset class for BERT and DistilBERT models.\n",
    "\n",
    "        Parameters:\n",
    "        - df (DataFrame): The dataset\n",
    "        - reviews (list): The column containing the text data\n",
    "        - targets (list): The column containing the target labels\n",
    "        - tokenizer: Tokenizer for encoding text data\n",
    "        - max_len (int): Maximum sequence length\n",
    "        - model_type (str): Model type, either \"bert\" or \"distilbert\"\n",
    "        - include_raw_text (bool): Whether to include the raw text in the output\n",
    "        \"\"\"\n",
    "        self.df = df\n",
    "        self.reviews = reviews\n",
    "        self.targets = targets\n",
    "        self.tokenizer = tokenizer\n",
    "        self.max_len = max_len\n",
    "        self.model_type = model_type.lower()\n",
    "        self.include_raw_text = include_raw_text\n",
    "\n",
    "    def __len__(self):\n",
    "        return len(self.reviews)\n",
    "\n",
    "    def __getitem__(self, idx):\n",
    "        review = self.reviews[idx]\n",
    "        target = self.targets[idx]\n",
    "\n",
    "        # Tokenize the review\n",
    "        input_encoding = self.tokenizer.encode_plus(\n",
    "            review,\n",
    "            max_length=self.max_len,\n",
    "            truncation=True,\n",
    "            add_special_tokens=True,\n",
    "            padding=\"max_length\",\n",
    "            return_attention_mask=True,\n",
    "            return_tensors=\"pt\"\n",
    "        )\n",
    "\n",
    "        # Initialize output dictionary\n",
    "        output = {\n",
    "            \"input_ids\": input_encoding[\"input_ids\"].flatten(),\n",
    "            \"attention_mask\": input_encoding[\"attention_mask\"].flatten(),\n",
    "            \"targets\": torch.tensor(target, dtype=torch.long),\n",
    "        }\n",
    "\n",
    "        # Add `token_type_ids` only for BERT, not DistilBERT\n",
    "        if self.model_type == \"bert\" and \"token_type_ids\" in input_encoding:\n",
    "            output[\"token_type_ids\"] = input_encoding[\"token_type_ids\"].flatten()\n",
    "\n",
    "        # Optionally include raw text\n",
    "        if self.include_raw_text:\n",
    "            output[\"review_text\"] = review\n",
    "\n",
    "        return output"
   ]
  },
  {
   "cell_type": "code",
   "execution_count": 34,
   "id": "723cd6b5",
   "metadata": {
    "execution": {
     "iopub.execute_input": "2024-12-25T12:47:06.974649Z",
     "iopub.status.busy": "2024-12-25T12:47:06.974352Z",
     "iopub.status.idle": "2024-12-25T12:47:08.331919Z",
     "shell.execute_reply": "2024-12-25T12:47:08.331212Z",
     "shell.execute_reply.started": "2024-12-25T12:47:06.974625Z"
    }
   },
   "outputs": [
    {
     "data": {
      "application/vnd.jupyter.widget-view+json": {
       "model_id": "40110cb2b06f400c91c82f3fa70b0adc",
       "version_major": 2,
       "version_minor": 0
      },
      "text/plain": [
       "tokenizer_config.json:   0%|          | 0.00/48.0 [00:00<?, ?B/s]"
      ]
     },
     "metadata": {},
     "output_type": "display_data"
    },
    {
     "data": {
      "application/vnd.jupyter.widget-view+json": {
       "model_id": "79d721e2c55b4ce097a24ddf60cbeb6d",
       "version_major": 2,
       "version_minor": 0
      },
      "text/plain": [
       "vocab.txt:   0%|          | 0.00/232k [00:00<?, ?B/s]"
      ]
     },
     "metadata": {},
     "output_type": "display_data"
    },
    {
     "data": {
      "application/vnd.jupyter.widget-view+json": {
       "model_id": "e153c1adc7af44ab9527384d59b4ae28",
       "version_major": 2,
       "version_minor": 0
      },
      "text/plain": [
       "tokenizer.json:   0%|          | 0.00/466k [00:00<?, ?B/s]"
      ]
     },
     "metadata": {},
     "output_type": "display_data"
    },
    {
     "data": {
      "application/vnd.jupyter.widget-view+json": {
       "model_id": "56c5f1b4a79747158bb5a8ca1ca1a18b",
       "version_major": 2,
       "version_minor": 0
      },
      "text/plain": [
       "config.json:   0%|          | 0.00/483 [00:00<?, ?B/s]"
      ]
     },
     "metadata": {},
     "output_type": "display_data"
    },
    {
     "data": {
      "application/vnd.jupyter.widget-view+json": {
       "model_id": "095da1ee9f2949faba620894a3084fd9",
       "version_major": 2,
       "version_minor": 0
      },
      "text/plain": [
       "tokenizer_config.json:   0%|          | 0.00/48.0 [00:00<?, ?B/s]"
      ]
     },
     "metadata": {},
     "output_type": "display_data"
    },
    {
     "data": {
      "application/vnd.jupyter.widget-view+json": {
       "model_id": "f61c7ab21f0a4d58b3c56ed3b748e214",
       "version_major": 2,
       "version_minor": 0
      },
      "text/plain": [
       "tokenizer.json:   0%|          | 0.00/466k [00:00<?, ?B/s]"
      ]
     },
     "metadata": {},
     "output_type": "display_data"
    }
   ],
   "source": [
    "# Initialize the DistilBERT tokenizer\n",
    "tokenizer_distilbert = DistilBertTokenizer.from_pretrained(\"distilbert-base-uncased\")\n",
    "\n",
    "# Initialize the BERT tokenizer\n",
    "tokenizer_BERT = BertTokenizer.from_pretrained(\"bert-base-uncased\")\n",
    "\n",
    "# Set up a collator with padding\n",
    "collator = DataCollatorWithPadding(tokenizer = tokenizer_BERT, padding=\"longest\")"
   ]
  },
  {
   "cell_type": "code",
   "execution_count": 35,
   "id": "c162c014",
   "metadata": {
    "execution": {
     "iopub.execute_input": "2024-12-25T12:47:13.744068Z",
     "iopub.status.busy": "2024-12-25T12:47:13.743733Z",
     "iopub.status.idle": "2024-12-25T12:47:13.749115Z",
     "shell.execute_reply": "2024-12-25T12:47:13.748200Z",
     "shell.execute_reply.started": "2024-12-25T12:47:13.744039Z"
    }
   },
   "outputs": [
    {
     "data": {
      "text/plain": [
       "DataCollatorWithPadding(tokenizer=BertTokenizer(name_or_path='bert-base-uncased', vocab_size=30522, model_max_length=512, is_fast=False, padding_side='right', truncation_side='right', special_tokens={'unk_token': '[UNK]', 'sep_token': '[SEP]', 'pad_token': '[PAD]', 'cls_token': '[CLS]', 'mask_token': '[MASK]'}, clean_up_tokenization_spaces=True, added_tokens_decoder={\n",
       "\t0: AddedToken(\"[PAD]\", rstrip=False, lstrip=False, single_word=False, normalized=False, special=True),\n",
       "\t100: AddedToken(\"[UNK]\", rstrip=False, lstrip=False, single_word=False, normalized=False, special=True),\n",
       "\t101: AddedToken(\"[CLS]\", rstrip=False, lstrip=False, single_word=False, normalized=False, special=True),\n",
       "\t102: AddedToken(\"[SEP]\", rstrip=False, lstrip=False, single_word=False, normalized=False, special=True),\n",
       "\t103: AddedToken(\"[MASK]\", rstrip=False, lstrip=False, single_word=False, normalized=False, special=True),\n",
       "}\n",
       "), padding='longest', max_length=None, pad_to_multiple_of=None, return_tensors='pt')"
      ]
     },
     "execution_count": 35,
     "metadata": {},
     "output_type": "execute_result"
    }
   ],
   "source": [
    "# looking at the collator properties\n",
    "collator"
   ]
  },
  {
   "cell_type": "markdown",
   "id": "2324e4c2",
   "metadata": {},
   "source": [
    "## CREATING A DATALOADER"
   ]
  },
  {
   "cell_type": "code",
   "execution_count": 36,
   "id": "580e3f24",
   "metadata": {
    "execution": {
     "iopub.execute_input": "2024-12-25T12:47:21.040481Z",
     "iopub.status.busy": "2024-12-25T12:47:21.040118Z",
     "iopub.status.idle": "2024-12-25T12:47:21.045555Z",
     "shell.execute_reply": "2024-12-25T12:47:21.044885Z",
     "shell.execute_reply.started": "2024-12-25T12:47:21.040441Z"
    }
   },
   "outputs": [],
   "source": [
    "def create_data_loader(data, tokenizer, model_type=\"bert\", max_len=MAX_LEN, batch_size=BATCH_SIZE, include_raw_text=False):\n",
    "    \"\"\"\n",
    "    Creates a DataLoader for BERT or DistilBERT sentiment analysis model.\n",
    "\n",
    "    Parameters:\n",
    "    - data: The DataFrame containing text and labels\n",
    "    - tokenizer: The tokenizer to be used (BERT or DistilBERT)\n",
    "    - model_type (str): The model type, either \"bert\" or \"distilbert\"\n",
    "    - max_len (int): The maximum length for tokenized input\n",
    "    - batch_size (int): The batch size for the DataLoader\n",
    "    - include_raw_text (bool): Whether to include the raw text in the dataset output\n",
    "\n",
    "    Returns:\n",
    "    - DataLoader: The PyTorch DataLoader for training or evaluation\n",
    "    \"\"\"\n",
    "    \n",
    "    # Set pad_token for GPT tokenizer if model_type is \"gpt\" (though not needed for BERT/DistilBERT)\n",
    "    if model_type == \"gpt\" and tokenizer.pad_token is None:\n",
    "        tokenizer.pad_token = tokenizer.eos_token\n",
    "\n",
    "    # Initialize the dataset with model_type passed as a parameter\n",
    "    dataset = SentimentDataset(\n",
    "        df=data,\n",
    "        reviews=data[\"tweet\"].to_list(),\n",
    "        targets=data[\"label\"].to_list(),\n",
    "        tokenizer=tokenizer,\n",
    "        max_len=max_len,\n",
    "        model_type=model_type,\n",
    "        include_raw_text=include_raw_text\n",
    "    )\n",
    "\n",
    "    # Set up the collator with padding behavior based on model type\n",
    "    # Padding for BERT and DistilBERT should be \"max_length\", as \"longest\" may cause issues with different sequence lengths.\n",
    "    collator = DataCollatorWithPadding(\n",
    "        tokenizer=tokenizer, \n",
    "        padding=\"max_length\"  # BERT and DistilBERT typically use max_length padding\n",
    "    )\n",
    "\n",
    "    return DataLoader(dataset, batch_size=batch_size, collate_fn=collator)"
   ]
  },
  {
   "cell_type": "markdown",
   "id": "b9a1ff30",
   "metadata": {},
   "source": [
    "#### DATALOADER INITIALIZATION"
   ]
  },
  {
   "cell_type": "markdown",
   "id": "20da272a",
   "metadata": {},
   "source": [
    "#### BERT"
   ]
  },
  {
   "cell_type": "code",
   "execution_count": 37,
   "id": "12da58c6",
   "metadata": {
    "execution": {
     "iopub.execute_input": "2024-12-25T12:47:33.948104Z",
     "iopub.status.busy": "2024-12-25T12:47:33.947729Z",
     "iopub.status.idle": "2024-12-25T12:47:33.954535Z",
     "shell.execute_reply": "2024-12-25T12:47:33.953411Z",
     "shell.execute_reply.started": "2024-12-25T12:47:33.948078Z"
    }
   },
   "outputs": [],
   "source": [
    "# pytorch dataloader implementation for the train dataloader\n",
    "train_dataloader_bert = create_data_loader(df_train, tokenizer=tokenizer_BERT, model_type=\"bert\")\n",
    "# pytorch dataloader implementation for the validation dataloader\n",
    "test_dataloader_bert = create_data_loader(df_test, tokenizer=tokenizer_BERT, model_type=\"bert\")\n",
    "# pytorch dataloader implementation for the test dataloader\n",
    "val_dataloader_bert = create_data_loader(df_val, tokenizer=tokenizer_BERT, model_type=\"bert\")"
   ]
  },
  {
   "cell_type": "markdown",
   "id": "6e863402",
   "metadata": {},
   "source": [
    "#### DistilBERT"
   ]
  },
  {
   "cell_type": "code",
   "execution_count": 38,
   "id": "fa010318",
   "metadata": {
    "execution": {
     "iopub.execute_input": "2024-12-25T12:47:40.522293Z",
     "iopub.status.busy": "2024-12-25T12:47:40.521794Z",
     "iopub.status.idle": "2024-12-25T12:47:40.530076Z",
     "shell.execute_reply": "2024-12-25T12:47:40.529130Z",
     "shell.execute_reply.started": "2024-12-25T12:47:40.522240Z"
    }
   },
   "outputs": [],
   "source": [
    "# pytorch dataloader implementation for the train dataloader\n",
    "train_dataloader_distil = create_data_loader(df_train, tokenizer=tokenizer_distilbert, model_type=\"distilbert\")\n",
    "# pytorch dataloader implementation for the validation dataloader\n",
    "test_dataloader_distil = create_data_loader(df_test, tokenizer=tokenizer_distilbert, model_type=\"distilbert\")\n",
    "# pytorch dataloader implementation for the test dataloader\n",
    "val_dataloader_distil = create_data_loader(df_val, tokenizer=tokenizer_distilbert, model_type=\"distilbert\")"
   ]
  },
  {
   "cell_type": "markdown",
   "id": "817b7a0e",
   "metadata": {},
   "source": [
    "# THE BERT TRANSFORMER MODEL"
   ]
  },
  {
   "cell_type": "code",
   "execution_count": 39,
   "id": "9efb27c1",
   "metadata": {
    "execution": {
     "iopub.execute_input": "2024-12-25T12:48:33.089691Z",
     "iopub.status.busy": "2024-12-25T12:48:33.089402Z",
     "iopub.status.idle": "2024-12-25T12:48:33.094807Z",
     "shell.execute_reply": "2024-12-25T12:48:33.094048Z",
     "shell.execute_reply.started": "2024-12-25T12:48:33.089667Z"
    }
   },
   "outputs": [],
   "source": [
    "class BERTClassifier(nn.Module):\n",
    "    \"\"\"This class calls the BERT weight from the pytorch library for pretrained models, fine tunes it to suit\n",
    "    the number of classes for our desired task then outputs the tuned model\"\"\"\n",
    "    def __init__(self, num_classes):\n",
    "        super(BERTClassifier, self).__init__()\n",
    "        #Load the pre-trained BERT model\n",
    "        self.bert = BertModel.from_pretrained(\"bert-base-uncased\", return_dict = False, from_tf = False) #body\n",
    "        self.drop = nn.Dropout(0.3)\n",
    "        #Ths will replace the final fully connected layer with a new one\n",
    "        self.out = nn.Linear(self.bert.config.hidden_size, num_classes)\n",
    "\n",
    "    def forward(self, input_ids, attention_mask, token_type_ids):\n",
    "        _, pooled_output = self.bert(\n",
    "        input_ids = input_ids,\n",
    "        attention_mask = attention_mask,\n",
    "        token_type_ids = token_type_ids\n",
    "        )\n",
    "\n",
    "        output = self.drop(pooled_output)\n",
    "        output = self.out(output)\n",
    "        return output"
   ]
  },
  {
   "cell_type": "code",
   "execution_count": 40,
   "id": "cf10c63b",
   "metadata": {
    "execution": {
     "iopub.execute_input": "2024-12-25T12:48:37.664153Z",
     "iopub.status.busy": "2024-12-25T12:48:37.663859Z",
     "iopub.status.idle": "2024-12-25T12:48:39.711025Z",
     "shell.execute_reply": "2024-12-25T12:48:39.710350Z",
     "shell.execute_reply.started": "2024-12-25T12:48:37.664130Z"
    }
   },
   "outputs": [],
   "source": [
    "model_bert = BERTClassifier(num_classes=2)"
   ]
  },
  {
   "cell_type": "code",
   "execution_count": 41,
   "id": "9c47a2b1",
   "metadata": {
    "execution": {
     "iopub.execute_input": "2024-12-25T12:48:42.732453Z",
     "iopub.status.busy": "2024-12-25T12:48:42.732113Z",
     "iopub.status.idle": "2024-12-25T12:48:42.895358Z",
     "shell.execute_reply": "2024-12-25T12:48:42.894337Z",
     "shell.execute_reply.started": "2024-12-25T12:48:42.732421Z"
    }
   },
   "outputs": [
    {
     "data": {
      "text/plain": [
       "BERTClassifier(\n",
       "  (bert): BertModel(\n",
       "    (embeddings): BertEmbeddings(\n",
       "      (word_embeddings): Embedding(30522, 768, padding_idx=0)\n",
       "      (position_embeddings): Embedding(512, 768)\n",
       "      (token_type_embeddings): Embedding(2, 768)\n",
       "      (LayerNorm): LayerNorm((768,), eps=1e-12, elementwise_affine=True)\n",
       "      (dropout): Dropout(p=0.1, inplace=False)\n",
       "    )\n",
       "    (encoder): BertEncoder(\n",
       "      (layer): ModuleList(\n",
       "        (0-11): 12 x BertLayer(\n",
       "          (attention): BertAttention(\n",
       "            (self): BertSelfAttention(\n",
       "              (query): Linear(in_features=768, out_features=768, bias=True)\n",
       "              (key): Linear(in_features=768, out_features=768, bias=True)\n",
       "              (value): Linear(in_features=768, out_features=768, bias=True)\n",
       "              (dropout): Dropout(p=0.1, inplace=False)\n",
       "            )\n",
       "            (output): BertSelfOutput(\n",
       "              (dense): Linear(in_features=768, out_features=768, bias=True)\n",
       "              (LayerNorm): LayerNorm((768,), eps=1e-12, elementwise_affine=True)\n",
       "              (dropout): Dropout(p=0.1, inplace=False)\n",
       "            )\n",
       "          )\n",
       "          (intermediate): BertIntermediate(\n",
       "            (dense): Linear(in_features=768, out_features=3072, bias=True)\n",
       "            (intermediate_act_fn): GELUActivation()\n",
       "          )\n",
       "          (output): BertOutput(\n",
       "            (dense): Linear(in_features=3072, out_features=768, bias=True)\n",
       "            (LayerNorm): LayerNorm((768,), eps=1e-12, elementwise_affine=True)\n",
       "            (dropout): Dropout(p=0.1, inplace=False)\n",
       "          )\n",
       "        )\n",
       "      )\n",
       "    )\n",
       "    (pooler): BertPooler(\n",
       "      (dense): Linear(in_features=768, out_features=768, bias=True)\n",
       "      (activation): Tanh()\n",
       "    )\n",
       "  )\n",
       "  (drop): Dropout(p=0.3, inplace=False)\n",
       "  (out): Linear(in_features=768, out_features=2, bias=True)\n",
       ")"
      ]
     },
     "execution_count": 41,
     "metadata": {},
     "output_type": "execute_result"
    }
   ],
   "source": [
    "model_bert.to(device)"
   ]
  },
  {
   "cell_type": "markdown",
   "id": "82d7ace3",
   "metadata": {},
   "source": [
    "# THE DISTIL BERT TRANSFORMER MODEL"
   ]
  },
  {
   "cell_type": "code",
   "execution_count": 42,
   "id": "2aaccadb",
   "metadata": {
    "execution": {
     "iopub.execute_input": "2024-12-25T12:48:06.564578Z",
     "iopub.status.busy": "2024-12-25T12:48:06.564270Z",
     "iopub.status.idle": "2024-12-25T12:48:06.569623Z",
     "shell.execute_reply": "2024-12-25T12:48:06.568824Z",
     "shell.execute_reply.started": "2024-12-25T12:48:06.564555Z"
    }
   },
   "outputs": [],
   "source": [
    "class DistilBERTClassifier(nn.Module):\n",
    "    \"\"\"This class loads the DistilBERT weight from the transformers library, fine-tunes it to suit\n",
    "    the number of classes for our desired task, and outputs the tuned model.\"\"\"\n",
    "    \n",
    "    def __init__(self, num_classes):\n",
    "        super(DistilBERTClassifier, self).__init__()\n",
    "        # Load the pre-trained DistilBERT model\n",
    "        self.distilbert = DistilBertModel.from_pretrained(\"distilbert-base-uncased\")\n",
    "        self.drop = nn.Dropout(0.3)\n",
    "        # This will replace the final fully connected layer with a new one\n",
    "        self.out = nn.Linear(self.distilbert.config.hidden_size, num_classes)  # Using hidden size from DistilBERT config\n",
    "\n",
    "    def forward(self, input_ids, attention_mask):\n",
    "        # DistilBERT outputs a tuple (last_hidden_state, attention_mask)\n",
    "        output = self.distilbert(input_ids=input_ids,\n",
    "                                 attention_mask=attention_mask)\n",
    "        last_hidden_state = output[0]  # Extract the last hidden state\n",
    "\n",
    "        # Use the hidden state corresponding to the [CLS] token (usually the first token)\n",
    "        pooled_output = last_hidden_state[:, 0, :]  # Shape (batch_size, hidden_size)\n",
    "\n",
    "        output = self.drop(pooled_output)\n",
    "        output = self.out(output)\n",
    "        return output"
   ]
  },
  {
   "cell_type": "code",
   "execution_count": 43,
   "id": "89068fe8",
   "metadata": {
    "execution": {
     "iopub.execute_input": "2024-12-25T12:48:12.335961Z",
     "iopub.status.busy": "2024-12-25T12:48:12.335543Z",
     "iopub.status.idle": "2024-12-25T12:48:13.860795Z",
     "shell.execute_reply": "2024-12-25T12:48:13.859852Z",
     "shell.execute_reply.started": "2024-12-25T12:48:12.335927Z"
    }
   },
   "outputs": [
    {
     "data": {
      "application/vnd.jupyter.widget-view+json": {
       "model_id": "454df5612e3443d6be0886a0459e49d6",
       "version_major": 2,
       "version_minor": 0
      },
      "text/plain": [
       "model.safetensors:   0%|          | 0.00/268M [00:00<?, ?B/s]"
      ]
     },
     "metadata": {},
     "output_type": "display_data"
    }
   ],
   "source": [
    "model_distil = DistilBERTClassifier(num_classes=2)"
   ]
  },
  {
   "cell_type": "code",
   "execution_count": 44,
   "id": "61ee26c2",
   "metadata": {
    "execution": {
     "iopub.execute_input": "2024-12-25T12:48:17.673834Z",
     "iopub.status.busy": "2024-12-25T12:48:17.673518Z",
     "iopub.status.idle": "2024-12-25T12:48:18.025981Z",
     "shell.execute_reply": "2024-12-25T12:48:18.025200Z",
     "shell.execute_reply.started": "2024-12-25T12:48:17.673809Z"
    }
   },
   "outputs": [
    {
     "data": {
      "text/plain": [
       "DistilBERTClassifier(\n",
       "  (distilbert): DistilBertModel(\n",
       "    (embeddings): Embeddings(\n",
       "      (word_embeddings): Embedding(30522, 768, padding_idx=0)\n",
       "      (position_embeddings): Embedding(512, 768)\n",
       "      (LayerNorm): LayerNorm((768,), eps=1e-12, elementwise_affine=True)\n",
       "      (dropout): Dropout(p=0.1, inplace=False)\n",
       "    )\n",
       "    (transformer): Transformer(\n",
       "      (layer): ModuleList(\n",
       "        (0-5): 6 x TransformerBlock(\n",
       "          (attention): MultiHeadSelfAttention(\n",
       "            (dropout): Dropout(p=0.1, inplace=False)\n",
       "            (q_lin): Linear(in_features=768, out_features=768, bias=True)\n",
       "            (k_lin): Linear(in_features=768, out_features=768, bias=True)\n",
       "            (v_lin): Linear(in_features=768, out_features=768, bias=True)\n",
       "            (out_lin): Linear(in_features=768, out_features=768, bias=True)\n",
       "          )\n",
       "          (sa_layer_norm): LayerNorm((768,), eps=1e-12, elementwise_affine=True)\n",
       "          (ffn): FFN(\n",
       "            (dropout): Dropout(p=0.1, inplace=False)\n",
       "            (lin1): Linear(in_features=768, out_features=3072, bias=True)\n",
       "            (lin2): Linear(in_features=3072, out_features=768, bias=True)\n",
       "            (activation): GELUActivation()\n",
       "          )\n",
       "          (output_layer_norm): LayerNorm((768,), eps=1e-12, elementwise_affine=True)\n",
       "        )\n",
       "      )\n",
       "    )\n",
       "  )\n",
       "  (drop): Dropout(p=0.3, inplace=False)\n",
       "  (out): Linear(in_features=768, out_features=2, bias=True)\n",
       ")"
      ]
     },
     "execution_count": 44,
     "metadata": {},
     "output_type": "execute_result"
    }
   ],
   "source": [
    "model_distil.to(device)"
   ]
  },
  {
   "cell_type": "markdown",
   "id": "ef0c6259",
   "metadata": {},
   "source": [
    "### LOSS FUNCTION AND OPTIMIZER FOR BOTH MODELS"
   ]
  },
  {
   "cell_type": "code",
   "execution_count": 61,
   "id": "e35e7a75",
   "metadata": {
    "execution": {
     "iopub.execute_input": "2024-12-25T12:48:50.134618Z",
     "iopub.status.busy": "2024-12-25T12:48:50.134291Z",
     "iopub.status.idle": "2024-12-25T12:48:50.141123Z",
     "shell.execute_reply": "2024-12-25T12:48:50.140280Z",
     "shell.execute_reply.started": "2024-12-25T12:48:50.134588Z"
    }
   },
   "outputs": [],
   "source": [
    "# CrossEntropyLoss is appropriate for multi-class or binary classification\n",
    "criterion = nn.CrossEntropyLoss() \n",
    "\n",
    "# Adam is a good choice for deep learning models for BERT\n",
    "optimizer_bert = optim.Adam(model_bert.parameters(), lr=3e-5)  \n",
    "\n",
    "# Adam is a good choice for deep learning models for GPT\n",
    "optimizer_distil_bert = optim.Adam(model_distil.parameters(), lr=3e-5) \n",
    "\n",
    "# Number of epochs and total steps for training\n",
    "NUM_EPOCHS = 10\n",
    "total_steps_bert = len(train_dataloader_bert) * NUM_EPOCHS\n",
    "total_steps_gpt = len(train_dataloader_distil) * NUM_EPOCHS\n",
    "\n",
    "# Scheduler: Linear schedule with warm-up\n",
    "scheduler_bert = get_linear_schedule_with_warmup(optimizer_bert, num_warmup_steps=0, num_training_steps=total_steps_bert)\n",
    "scheduler_distil = get_linear_schedule_with_warmup(optimizer_distil_bert, num_warmup_steps=0, num_training_steps=total_steps_gpt)"
   ]
  },
  {
   "cell_type": "markdown",
   "id": "118d7f94",
   "metadata": {},
   "source": [
    "## BERT TRAINING"
   ]
  },
  {
   "cell_type": "code",
   "execution_count": 25,
   "id": "6a2f58a2",
   "metadata": {
    "execution": {
     "iopub.execute_input": "2024-12-18T00:29:09.243453Z",
     "iopub.status.busy": "2024-12-18T00:29:09.243059Z",
     "iopub.status.idle": "2024-12-18T00:58:04.147390Z",
     "shell.execute_reply": "2024-12-18T00:58:04.146594Z",
     "shell.execute_reply.started": "2024-12-18T00:29:09.243417Z"
    }
   },
   "outputs": [
    {
     "name": "stdout",
     "output_type": "stream",
     "text": [
      "Epoch [1/10]\n"
     ]
    },
    {
     "data": {
      "application/vnd.jupyter.widget-view+json": {
       "model_id": "1ef8a4e092f340959d269d67de9c3772",
       "version_major": 2,
       "version_minor": 0
      },
      "text/plain": [
       "  0%|          | 0/600 [00:00<?, ?it/s]"
      ]
     },
     "metadata": {},
     "output_type": "display_data"
    },
    {
     "name": "stdout",
     "output_type": "stream",
     "text": [
      "Epoch 1 loss: 0.134\n"
     ]
    },
    {
     "data": {
      "application/vnd.jupyter.widget-view+json": {
       "model_id": "f0ffa909ee4145e29a3430ed47535205",
       "version_major": 2,
       "version_minor": 0
      },
      "text/plain": [
       "  0%|          | 0/200 [00:00<?, ?it/s]"
      ]
     },
     "metadata": {},
     "output_type": "display_data"
    },
    {
     "name": "stdout",
     "output_type": "stream",
     "text": [
      "Epoch 1, Training Accuracy: 95.50%, Validation Accuracy: 96.28%, Training Loss: 0.1343, Validation Loss: 0.1129\n",
      "Epoch [2/10]\n"
     ]
    },
    {
     "data": {
      "application/vnd.jupyter.widget-view+json": {
       "model_id": "6e70e458d9694d268888a69bb0396d50",
       "version_major": 2,
       "version_minor": 0
      },
      "text/plain": [
       "  0%|          | 0/600 [00:00<?, ?it/s]"
      ]
     },
     "metadata": {},
     "output_type": "display_data"
    },
    {
     "name": "stdout",
     "output_type": "stream",
     "text": [
      "Epoch 2 loss: 0.057\n"
     ]
    },
    {
     "data": {
      "application/vnd.jupyter.widget-view+json": {
       "model_id": "97d45950f2fb40a4b68f49b1bd55b92a",
       "version_major": 2,
       "version_minor": 0
      },
      "text/plain": [
       "  0%|          | 0/200 [00:00<?, ?it/s]"
      ]
     },
     "metadata": {},
     "output_type": "display_data"
    },
    {
     "name": "stdout",
     "output_type": "stream",
     "text": [
      "Epoch 2, Training Accuracy: 97.97%, Validation Accuracy: 96.57%, Training Loss: 0.0572, Validation Loss: 0.1373\n",
      "Epoch [3/10]\n"
     ]
    },
    {
     "data": {
      "application/vnd.jupyter.widget-view+json": {
       "model_id": "3d05b587f262415aac07409550533ca4",
       "version_major": 2,
       "version_minor": 0
      },
      "text/plain": [
       "  0%|          | 0/600 [00:00<?, ?it/s]"
      ]
     },
     "metadata": {},
     "output_type": "display_data"
    },
    {
     "name": "stdout",
     "output_type": "stream",
     "text": [
      "Epoch 3 loss: 0.026\n"
     ]
    },
    {
     "data": {
      "application/vnd.jupyter.widget-view+json": {
       "model_id": "2edadf38169c4dd9a3345f5133988fec",
       "version_major": 2,
       "version_minor": 0
      },
      "text/plain": [
       "  0%|          | 0/200 [00:00<?, ?it/s]"
      ]
     },
     "metadata": {},
     "output_type": "display_data"
    },
    {
     "name": "stdout",
     "output_type": "stream",
     "text": [
      "Epoch 3, Training Accuracy: 99.11%, Validation Accuracy: 96.43%, Training Loss: 0.0261, Validation Loss: 0.1564\n",
      "Epoch [4/10]\n"
     ]
    },
    {
     "data": {
      "application/vnd.jupyter.widget-view+json": {
       "model_id": "8974c635477c4e41b7216d93fd71ae6e",
       "version_major": 2,
       "version_minor": 0
      },
      "text/plain": [
       "  0%|          | 0/600 [00:00<?, ?it/s]"
      ]
     },
     "metadata": {},
     "output_type": "display_data"
    },
    {
     "name": "stdout",
     "output_type": "stream",
     "text": [
      "Epoch 4 loss: 0.018\n"
     ]
    },
    {
     "data": {
      "application/vnd.jupyter.widget-view+json": {
       "model_id": "35adc41a3f414c5aac2d2e0fc9b12066",
       "version_major": 2,
       "version_minor": 0
      },
      "text/plain": [
       "  0%|          | 0/200 [00:00<?, ?it/s]"
      ]
     },
     "metadata": {},
     "output_type": "display_data"
    },
    {
     "name": "stdout",
     "output_type": "stream",
     "text": [
      "Epoch 4, Training Accuracy: 99.39%, Validation Accuracy: 96.54%, Training Loss: 0.0179, Validation Loss: 0.1604\n",
      "Epoch [5/10]\n"
     ]
    },
    {
     "data": {
      "application/vnd.jupyter.widget-view+json": {
       "model_id": "b2396111bc464a488706100107b20205",
       "version_major": 2,
       "version_minor": 0
      },
      "text/plain": [
       "  0%|          | 0/600 [00:00<?, ?it/s]"
      ]
     },
     "metadata": {},
     "output_type": "display_data"
    },
    {
     "name": "stdout",
     "output_type": "stream",
     "text": [
      "Epoch 5 loss: 0.008\n"
     ]
    },
    {
     "data": {
      "application/vnd.jupyter.widget-view+json": {
       "model_id": "a64651b50185472e9f07330c414e68ae",
       "version_major": 2,
       "version_minor": 0
      },
      "text/plain": [
       "  0%|          | 0/200 [00:00<?, ?it/s]"
      ]
     },
     "metadata": {},
     "output_type": "display_data"
    },
    {
     "name": "stdout",
     "output_type": "stream",
     "text": [
      "Epoch 5, Training Accuracy: 99.72%, Validation Accuracy: 96.42%, Training Loss: 0.0080, Validation Loss: 0.1492\n",
      "Epoch [6/10]\n"
     ]
    },
    {
     "data": {
      "application/vnd.jupyter.widget-view+json": {
       "model_id": "ef47f2d7c1d5425799cf794079ba573b",
       "version_major": 2,
       "version_minor": 0
      },
      "text/plain": [
       "  0%|          | 0/600 [00:00<?, ?it/s]"
      ]
     },
     "metadata": {},
     "output_type": "display_data"
    },
    {
     "name": "stdout",
     "output_type": "stream",
     "text": [
      "Epoch 6 loss: 0.008\n"
     ]
    },
    {
     "data": {
      "application/vnd.jupyter.widget-view+json": {
       "model_id": "03bf8964cd0640a9901283044f8ee3bf",
       "version_major": 2,
       "version_minor": 0
      },
      "text/plain": [
       "  0%|          | 0/200 [00:00<?, ?it/s]"
      ]
     },
     "metadata": {},
     "output_type": "display_data"
    },
    {
     "name": "stdout",
     "output_type": "stream",
     "text": [
      "Epoch 6, Training Accuracy: 99.72%, Validation Accuracy: 96.45%, Training Loss: 0.0078, Validation Loss: 0.1989\n",
      "Epoch [7/10]\n"
     ]
    },
    {
     "data": {
      "application/vnd.jupyter.widget-view+json": {
       "model_id": "1ecec8b4ac4b4f658e6e59d8b64de97e",
       "version_major": 2,
       "version_minor": 0
      },
      "text/plain": [
       "  0%|          | 0/600 [00:00<?, ?it/s]"
      ]
     },
     "metadata": {},
     "output_type": "display_data"
    },
    {
     "name": "stdout",
     "output_type": "stream",
     "text": [
      "Epoch 7 loss: 0.003\n"
     ]
    },
    {
     "data": {
      "application/vnd.jupyter.widget-view+json": {
       "model_id": "69db5e4095c649efb920ee5b4038d09f",
       "version_major": 2,
       "version_minor": 0
      },
      "text/plain": [
       "  0%|          | 0/200 [00:00<?, ?it/s]"
      ]
     },
     "metadata": {},
     "output_type": "display_data"
    },
    {
     "name": "stdout",
     "output_type": "stream",
     "text": [
      "Epoch 7, Training Accuracy: 99.90%, Validation Accuracy: 96.75%, Training Loss: 0.0035, Validation Loss: 0.2092\n",
      "Epoch [8/10]\n"
     ]
    },
    {
     "data": {
      "application/vnd.jupyter.widget-view+json": {
       "model_id": "8b260f4224264ceea3185535dbcb94cd",
       "version_major": 2,
       "version_minor": 0
      },
      "text/plain": [
       "  0%|          | 0/600 [00:00<?, ?it/s]"
      ]
     },
     "metadata": {},
     "output_type": "display_data"
    },
    {
     "name": "stdout",
     "output_type": "stream",
     "text": [
      "Epoch 8 loss: 0.004\n"
     ]
    },
    {
     "data": {
      "application/vnd.jupyter.widget-view+json": {
       "model_id": "c9f645ca6eb44227b4072672457c7d14",
       "version_major": 2,
       "version_minor": 0
      },
      "text/plain": [
       "  0%|          | 0/200 [00:00<?, ?it/s]"
      ]
     },
     "metadata": {},
     "output_type": "display_data"
    },
    {
     "name": "stdout",
     "output_type": "stream",
     "text": [
      "Epoch 8, Training Accuracy: 99.85%, Validation Accuracy: 96.23%, Training Loss: 0.0044, Validation Loss: 0.1699\n",
      "Epoch [9/10]\n"
     ]
    },
    {
     "data": {
      "application/vnd.jupyter.widget-view+json": {
       "model_id": "54046c0d9c8b41e9a6eca68ac83f207f",
       "version_major": 2,
       "version_minor": 0
      },
      "text/plain": [
       "  0%|          | 0/600 [00:00<?, ?it/s]"
      ]
     },
     "metadata": {},
     "output_type": "display_data"
    },
    {
     "name": "stdout",
     "output_type": "stream",
     "text": [
      "Epoch 9 loss: 0.003\n"
     ]
    },
    {
     "data": {
      "application/vnd.jupyter.widget-view+json": {
       "model_id": "b7e6f866ef094ddd914f6f931de68965",
       "version_major": 2,
       "version_minor": 0
      },
      "text/plain": [
       "  0%|          | 0/200 [00:00<?, ?it/s]"
      ]
     },
     "metadata": {},
     "output_type": "display_data"
    },
    {
     "name": "stdout",
     "output_type": "stream",
     "text": [
      "Epoch 9, Training Accuracy: 99.91%, Validation Accuracy: 96.46%, Training Loss: 0.0026, Validation Loss: 0.2763\n",
      "Epoch [10/10]\n"
     ]
    },
    {
     "data": {
      "application/vnd.jupyter.widget-view+json": {
       "model_id": "f82e772424444fdbb2d60b6ac5745989",
       "version_major": 2,
       "version_minor": 0
      },
      "text/plain": [
       "  0%|          | 0/600 [00:00<?, ?it/s]"
      ]
     },
     "metadata": {},
     "output_type": "display_data"
    },
    {
     "name": "stdout",
     "output_type": "stream",
     "text": [
      "Epoch 10 loss: 0.006\n"
     ]
    },
    {
     "data": {
      "application/vnd.jupyter.widget-view+json": {
       "model_id": "c231df01f3ba4efda10ebedaccdbd1a1",
       "version_major": 2,
       "version_minor": 0
      },
      "text/plain": [
       "  0%|          | 0/200 [00:00<?, ?it/s]"
      ]
     },
     "metadata": {},
     "output_type": "display_data"
    },
    {
     "name": "stdout",
     "output_type": "stream",
     "text": [
      "Epoch 10, Training Accuracy: 99.81%, Validation Accuracy: 95.28%, Training Loss: 0.0060, Validation Loss: 0.2091\n"
     ]
    }
   ],
   "source": [
    "# The training loop is a PyTorch convention. It trains the model using the train data loader and evaluates it using the validation data loader.\n",
    "# Storing the loss and accuracy value for each epoch\n",
    "train_losses = []\n",
    "accuracy = []\n",
    "val_losses = []\n",
    "accuracy_val = []\n",
    "\n",
    "# Validation items\n",
    "val_correct = 0\n",
    "val_total = 0\n",
    "NUM_EPOCHS = 10\n",
    "\n",
    "for epoch in range(NUM_EPOCHS):\n",
    "    train_running_loss = 0.0\n",
    "    print(f\"Epoch [{epoch+1}/{NUM_EPOCHS}]\")\n",
    "    \n",
    "    # Initializing the prediction count to zero before the loop\n",
    "    correct = 0\n",
    "    total = 0\n",
    "\n",
    "    # Train loop\n",
    "    model_bert.train()  # Set model to training mode\n",
    "    \n",
    "    for idx, batch in tqdm(enumerate(train_dataloader_bert), total = len(train_dataloader_bert)):\n",
    "        # Moves the input data (input_ids, attention mask, token type, and targets) to the specified device\n",
    "        input_ids = batch[\"input_ids\"].to(device, dtype=torch.long)\n",
    "        attention_mask = batch[\"attention_mask\"].to(device, dtype=torch.long)\n",
    "        token_type_ids = batch[\"token_type_ids\"].to(device, dtype=torch.long)\n",
    "        targets = batch[\"targets\"].to(device, dtype=torch.long)\n",
    "\n",
    "        # Forward pass\n",
    "        outputs = model_bert(input_ids, attention_mask, token_type_ids)\n",
    "        loss = criterion(outputs, targets)\n",
    "\n",
    "        # Accumulate training loss for each batch\n",
    "        train_running_loss += loss.item()\n",
    "        train_losses.append(loss.item())\n",
    "        \n",
    "        # Compute the number of correct predictions for the current batch\n",
    "        _, predicted = torch.max(outputs, dim=1)\n",
    "        total += targets.size(0)\n",
    "        correct += (predicted == targets).sum().item()\n",
    "\n",
    "        # Backpropagation\n",
    "        loss.backward()\n",
    "\n",
    "        # Gradient descent\n",
    "        optimizer_bert.step()\n",
    "        optimizer_bert.zero_grad()\n",
    "    \n",
    "    # Update the learning rate scheduler\n",
    "    scheduler_bert.step()\n",
    "    \n",
    "    epoch_loss = train_running_loss / len(train_dataloader_bert)\n",
    "    print(f\"Epoch {epoch+1} loss: {epoch_loss:.3f}\")\n",
    "    train_accuracy = 100 * (correct / total)\n",
    "    accuracy.append(train_accuracy)\n",
    "    \n",
    "    # Validation loop\n",
    "    model_bert.eval()  # Set model to evaluation mode\n",
    "    \n",
    "    with torch.no_grad():  # No gradients needed for validation\n",
    "        val_loss = 0.0\n",
    "        val_correct = 0\n",
    "        val_total = 0\n",
    "        \n",
    "        for idx, batch in tqdm(enumerate(val_dataloader_bert), total = len(val_dataloader_bert)):\n",
    "            # Moves the input data (input_ids, attention mask, token type, and targets) to the specified device\n",
    "            input_ids = batch[\"input_ids\"].to(device, dtype=torch.long)\n",
    "            attention_mask = batch[\"attention_mask\"].to(device, dtype=torch.long)\n",
    "            token_type_ids = batch[\"token_type_ids\"].to(device, dtype=torch.long)\n",
    "            targets = batch[\"targets\"].to(device, dtype=torch.long)\n",
    "        \n",
    "            # Forward pass\n",
    "            outputs = model_bert(input_ids, attention_mask, token_type_ids)\n",
    "            loss = criterion(outputs, targets)\n",
    "        \n",
    "            # Accumulate validation loss\n",
    "            val_loss += loss.item()\n",
    "        \n",
    "            # Compute the number of correct predictions for the validation batch\n",
    "            _, predicted = torch.max(outputs, dim=1)\n",
    "            val_total += targets.size(0)\n",
    "            val_correct += (predicted == targets).sum().item()\n",
    "        \n",
    "        # Calculate the average validation loss\n",
    "        val_loss /= len(val_dataloader_bert)\n",
    "        \n",
    "        # Calculate validation accuracy\n",
    "        val_accuracy = 100 * (val_correct / val_total)\n",
    "        \n",
    "        # Store accuracy values for validation\n",
    "        accuracy_val.append(val_accuracy)\n",
    "        \n",
    "        # Store validation loss\n",
    "        val_losses.append(val_loss)\n",
    "        \n",
    "        # Print training and validation results\n",
    "        print(f\"Epoch {epoch+1}, Training Accuracy: {train_accuracy:.2f}%, Validation Accuracy: {val_accuracy:.2f}%, Training Loss: {epoch_loss:.4f}, Validation Loss: {val_loss:.4f}\")"
   ]
  },
  {
   "cell_type": "markdown",
   "id": "bc8302ea",
   "metadata": {},
   "source": [
    "## BERT TESTING"
   ]
  },
  {
   "cell_type": "code",
   "execution_count": 26,
   "id": "326da1a3",
   "metadata": {
    "execution": {
     "iopub.execute_input": "2024-12-18T00:58:13.045509Z",
     "iopub.status.busy": "2024-12-18T00:58:13.045169Z",
     "iopub.status.idle": "2024-12-18T00:58:30.897107Z",
     "shell.execute_reply": "2024-12-18T00:58:30.896435Z",
     "shell.execute_reply.started": "2024-12-18T00:58:13.045481Z"
    }
   },
   "outputs": [
    {
     "data": {
      "application/vnd.jupyter.widget-view+json": {
       "model_id": "659c6ff818744795a1f59512eff03fc8",
       "version_major": 2,
       "version_minor": 0
      },
      "text/plain": [
       "  0%|          | 0/200 [00:00<?, ?it/s]"
      ]
     },
     "metadata": {},
     "output_type": "display_data"
    },
    {
     "name": "stdout",
     "output_type": "stream",
     "text": [
      "Test Loss: 0.214 | Accuracy: 95.401\n"
     ]
    }
   ],
   "source": [
    "# Initialize the total sample count and correct prediction count to zero\n",
    "correct_pred = 0.0\n",
    "total_samples = 0.0\n",
    "\n",
    "# Storing all the loss, predictions, and label values for the test\n",
    "test_losses = []\n",
    "all_predictions = []\n",
    "all_labels = []\n",
    "\n",
    "model_bert.eval()  # Set the model to evaluation mode\n",
    "with torch.no_grad():\n",
    "    test_loss = 0.0\n",
    "    for batch in tqdm(test_dataloader_bert, total=len(test_dataloader_bert)):\n",
    "        input_ids = batch[\"input_ids\"].to(device, dtype=torch.long)\n",
    "        attention_mask = batch[\"attention_mask\"].to(device, dtype=torch.long)\n",
    "        token_type_ids = batch[\"token_type_ids\"].to(device, dtype=torch.long)  # This is necessary for BERT\n",
    "        targets = batch[\"targets\"].to(device, dtype=torch.long)\n",
    "\n",
    "        # Forward pass\n",
    "        outputs = model_bert(input_ids, attention_mask=attention_mask, token_type_ids=token_type_ids)\n",
    "        loss = criterion(outputs, targets)\n",
    "\n",
    "        # Accumulate the loss\n",
    "        test_loss += loss.item()\n",
    "        test_losses.append(loss.item())\n",
    "\n",
    "        # Get predictions\n",
    "        _, predicted = torch.max(outputs, dim=1)\n",
    "        total_samples += targets.size(0)\n",
    "\n",
    "        # Calculate accuracy\n",
    "        correct_pred += (predicted == targets).sum()\n",
    "\n",
    "        # Store the predicted and actual labels\n",
    "        all_predictions.extend(predicted.cpu().numpy())\n",
    "        all_labels.extend(targets.cpu().numpy())\n",
    "\n",
    "# Calculate the average test loss and accuracy after completing the testing/validation phase\n",
    "test_loss /= len(test_dataloader_bert)\n",
    "accuracy = correct_pred / total_samples\n",
    "\n",
    "# Print the results\n",
    "print(\"Test Loss: {:.3f} | Accuracy: {:.3f}\".format(test_loss, accuracy * 100))"
   ]
  },
  {
   "cell_type": "markdown",
   "id": "965b78cd",
   "metadata": {},
   "source": [
    "#### CLASSIFICATION REPORT FOR BERT"
   ]
  },
  {
   "cell_type": "code",
   "execution_count": 27,
   "id": "c4c7ea2a",
   "metadata": {
    "execution": {
     "iopub.execute_input": "2024-12-18T00:58:38.678860Z",
     "iopub.status.busy": "2024-12-18T00:58:38.678540Z",
     "iopub.status.idle": "2024-12-18T00:58:38.714558Z",
     "shell.execute_reply": "2024-12-18T00:58:38.713675Z",
     "shell.execute_reply.started": "2024-12-18T00:58:38.678832Z"
    }
   },
   "outputs": [],
   "source": [
    "# these are gotten from the sklearn library\n",
    "accuracy = accuracy_score(all_labels, all_predictions)\n",
    "precision = precision_score(all_labels, all_predictions, average = \"weighted\")\n",
    "recall = recall_score(all_labels, all_predictions, average = \"weighted\")\n",
    "f1 = f1_score(all_labels, all_predictions, average = \"weighted\")"
   ]
  },
  {
   "cell_type": "markdown",
   "id": "58db2585",
   "metadata": {},
   "source": [
    "#### BERT RESULTS"
   ]
  },
  {
   "cell_type": "code",
   "execution_count": 28,
   "id": "b9e77c37",
   "metadata": {
    "execution": {
     "iopub.execute_input": "2024-12-18T00:58:43.279429Z",
     "iopub.status.busy": "2024-12-18T00:58:43.278483Z",
     "iopub.status.idle": "2024-12-18T00:58:43.284059Z",
     "shell.execute_reply": "2024-12-18T00:58:43.283091Z",
     "shell.execute_reply.started": "2024-12-18T00:58:43.279393Z"
    }
   },
   "outputs": [
    {
     "name": "stdout",
     "output_type": "stream",
     "text": [
      "Accuracy: 0.954, precision: 0.962, recall: 0.954, F1: 0.957\n"
     ]
    }
   ],
   "source": [
    "print(f\"Accuracy: {accuracy:.3f}, precision: {precision:.3f}, recall: {recall:.3f}, F1: {f1:.3f}\")"
   ]
  },
  {
   "cell_type": "code",
   "execution_count": 29,
   "id": "54a9781f",
   "metadata": {
    "execution": {
     "iopub.execute_input": "2024-12-18T00:58:47.343715Z",
     "iopub.status.busy": "2024-12-18T00:58:47.343310Z",
     "iopub.status.idle": "2024-12-18T00:58:47.370325Z",
     "shell.execute_reply": "2024-12-18T00:58:47.369243Z",
     "shell.execute_reply.started": "2024-12-18T00:58:47.343668Z"
    }
   },
   "outputs": [
    {
     "name": "stdout",
     "output_type": "stream",
     "text": [
      "              precision    recall  f1-score   support\n",
      "\n",
      "           0       0.99      0.96      0.97      5913\n",
      "           1       0.65      0.84      0.73       480\n",
      "\n",
      "    accuracy                           0.95      6393\n",
      "   macro avg       0.82      0.90      0.85      6393\n",
      "weighted avg       0.96      0.95      0.96      6393\n",
      "\n"
     ]
    }
   ],
   "source": [
    "report = classification_report(all_labels, all_predictions)\n",
    "print(report)"
   ]
  },
  {
   "cell_type": "markdown",
   "id": "acd1b4ff",
   "metadata": {},
   "source": [
    "#### ROC CURVE FOR BERT"
   ]
  },
  {
   "cell_type": "code",
   "execution_count": 33,
   "id": "fe618763",
   "metadata": {
    "execution": {
     "iopub.execute_input": "2024-12-18T01:01:08.618904Z",
     "iopub.status.busy": "2024-12-18T01:01:08.618571Z",
     "iopub.status.idle": "2024-12-18T01:01:08.858639Z",
     "shell.execute_reply": "2024-12-18T01:01:08.857881Z",
     "shell.execute_reply.started": "2024-12-18T01:01:08.618875Z"
    }
   },
   "outputs": [
    {
     "data": {
      "image/png": "[encoded data removed]",
      "text/plain": [
       "<Figure size 640x480 with 1 Axes>"
      ]
     },
     "metadata": {},
     "output_type": "display_data"
    }
   ],
   "source": [
    "fp, tp, thresholds = roc_curve(all_labels, all_predictions)\n",
    "roc_auc = roc_auc_score(all_labels, all_predictions)\n",
    "plt.figure()\n",
    "plt.plot(fp, tp, color=\"blue\", lw=2, label=\"roc curve (AUC = {:.2f})\".format(roc_auc))\n",
    "plt.plot([0, 1], [0, 1], color=\"orange\", lw=2, linestyle=\"--\")\n",
    "plt.xlabel(\"False Positive\")\n",
    "plt.ylabel(\"True Positive\")\n",
    "plt.title(\"roc curve\")\n",
    "plt.legend()\n",
    "plt.show()"
   ]
  },
  {
   "cell_type": "markdown",
   "id": "cefbc25d",
   "metadata": {},
   "source": [
    "## DISTIL BERT TRAINING"
   ]
  },
  {
   "cell_type": "code",
   "execution_count": 43,
   "id": "ba7caaa6-e1f4-4b54-98ff-80b583c31971",
   "metadata": {
    "execution": {
     "iopub.execute_input": "2024-12-18T01:11:10.644165Z",
     "iopub.status.busy": "2024-12-18T01:11:10.643352Z",
     "iopub.status.idle": "2024-12-18T01:11:10.647811Z",
     "shell.execute_reply": "2024-12-18T01:11:10.646967Z",
     "shell.execute_reply.started": "2024-12-18T01:11:10.644127Z"
    }
   },
   "outputs": [],
   "source": [
    "torch.cuda.empty_cache()"
   ]
  },
  {
   "cell_type": "code",
   "execution_count": 29,
   "id": "ac08ffd6",
   "metadata": {
    "execution": {
     "iopub.execute_input": "2024-12-25T12:49:06.737762Z",
     "iopub.status.busy": "2024-12-25T12:49:06.737464Z",
     "iopub.status.idle": "2024-12-25T15:24:08.693352Z",
     "shell.execute_reply": "2024-12-25T15:24:08.692361Z",
     "shell.execute_reply.started": "2024-12-25T12:49:06.737739Z"
    }
   },
   "outputs": [
    {
     "name": "stdout",
     "output_type": "stream",
     "text": [
      "Epoch [1/10]\n"
     ]
    },
    {
     "data": {
      "application/vnd.jupyter.widget-view+json": {
       "model_id": "af5572ca5c4d439f992ed7b3ba0e8719",
       "version_major": 2,
       "version_minor": 0
      },
      "text/plain": [
       "  0%|          | 0/600 [00:00<?, ?it/s]"
      ]
     },
     "metadata": {},
     "output_type": "display_data"
    },
    {
     "name": "stdout",
     "output_type": "stream",
     "text": [
      "Epoch 1 loss: 0.147\n"
     ]
    },
    {
     "data": {
      "application/vnd.jupyter.widget-view+json": {
       "model_id": "e0f4317616c74882b0bc6062c033fa41",
       "version_major": 2,
       "version_minor": 0
      },
      "text/plain": [
       "  0%|          | 0/200 [00:00<?, ?it/s]"
      ]
     },
     "metadata": {},
     "output_type": "display_data"
    },
    {
     "name": "stdout",
     "output_type": "stream",
     "text": [
      "Epoch 1, Training Accuracy: 95.05%, Validation Accuracy: 96.10%, Training Loss: 0.1474, Validation Loss: 0.1158\n",
      "Epoch [2/10]\n"
     ]
    },
    {
     "data": {
      "application/vnd.jupyter.widget-view+json": {
       "model_id": "c6fb78ee2aa8409e8eb37a5258f4c0e6",
       "version_major": 2,
       "version_minor": 0
      },
      "text/plain": [
       "  0%|          | 0/600 [00:00<?, ?it/s]"
      ]
     },
     "metadata": {},
     "output_type": "display_data"
    },
    {
     "name": "stdout",
     "output_type": "stream",
     "text": [
      "Epoch 2 loss: 0.069\n"
     ]
    },
    {
     "data": {
      "application/vnd.jupyter.widget-view+json": {
       "model_id": "07c0fb482eda42c3ac88ae65c4c0888f",
       "version_major": 2,
       "version_minor": 0
      },
      "text/plain": [
       "  0%|          | 0/200 [00:00<?, ?it/s]"
      ]
     },
     "metadata": {},
     "output_type": "display_data"
    },
    {
     "name": "stdout",
     "output_type": "stream",
     "text": [
      "Epoch 2, Training Accuracy: 97.55%, Validation Accuracy: 96.26%, Training Loss: 0.0692, Validation Loss: 0.1417\n",
      "Epoch [3/10]\n"
     ]
    },
    {
     "data": {
      "application/vnd.jupyter.widget-view+json": {
       "model_id": "c26d8deccea4404b86237a048a8416fa",
       "version_major": 2,
       "version_minor": 0
      },
      "text/plain": [
       "  0%|          | 0/600 [00:00<?, ?it/s]"
      ]
     },
     "metadata": {},
     "output_type": "display_data"
    },
    {
     "name": "stdout",
     "output_type": "stream",
     "text": [
      "Epoch 3 loss: 0.033\n"
     ]
    },
    {
     "data": {
      "application/vnd.jupyter.widget-view+json": {
       "model_id": "3a84bd35ca6d46aa84280c0c15590c7c",
       "version_major": 2,
       "version_minor": 0
      },
      "text/plain": [
       "  0%|          | 0/200 [00:00<?, ?it/s]"
      ]
     },
     "metadata": {},
     "output_type": "display_data"
    },
    {
     "name": "stdout",
     "output_type": "stream",
     "text": [
      "Epoch 3, Training Accuracy: 98.90%, Validation Accuracy: 96.29%, Training Loss: 0.0325, Validation Loss: 0.1694\n",
      "Epoch [4/10]\n"
     ]
    },
    {
     "data": {
      "application/vnd.jupyter.widget-view+json": {
       "model_id": "b84b98d4c4ce4a50afb2c74f010630e4",
       "version_major": 2,
       "version_minor": 0
      },
      "text/plain": [
       "  0%|          | 0/600 [00:00<?, ?it/s]"
      ]
     },
     "metadata": {},
     "output_type": "display_data"
    },
    {
     "name": "stdout",
     "output_type": "stream",
     "text": [
      "Epoch 4 loss: 0.019\n"
     ]
    },
    {
     "data": {
      "application/vnd.jupyter.widget-view+json": {
       "model_id": "c6d2f97573f34b069f1eadabad9a28e5",
       "version_major": 2,
       "version_minor": 0
      },
      "text/plain": [
       "  0%|          | 0/200 [00:00<?, ?it/s]"
      ]
     },
     "metadata": {},
     "output_type": "display_data"
    },
    {
     "name": "stdout",
     "output_type": "stream",
     "text": [
      "Epoch 4, Training Accuracy: 99.33%, Validation Accuracy: 94.90%, Training Loss: 0.0190, Validation Loss: 0.2114\n",
      "Epoch [5/10]\n"
     ]
    },
    {
     "data": {
      "application/vnd.jupyter.widget-view+json": {
       "model_id": "1c3336fa8e654a10a4ada83a6901f11f",
       "version_major": 2,
       "version_minor": 0
      },
      "text/plain": [
       "  0%|          | 0/600 [00:00<?, ?it/s]"
      ]
     },
     "metadata": {},
     "output_type": "display_data"
    },
    {
     "name": "stdout",
     "output_type": "stream",
     "text": [
      "Epoch 5 loss: 0.013\n"
     ]
    },
    {
     "data": {
      "application/vnd.jupyter.widget-view+json": {
       "model_id": "b741f884436342c890ce5fa53c0c8641",
       "version_major": 2,
       "version_minor": 0
      },
      "text/plain": [
       "  0%|          | 0/200 [00:00<?, ?it/s]"
      ]
     },
     "metadata": {},
     "output_type": "display_data"
    },
    {
     "name": "stdout",
     "output_type": "stream",
     "text": [
      "Epoch 5, Training Accuracy: 99.61%, Validation Accuracy: 95.70%, Training Loss: 0.0130, Validation Loss: 0.1814\n",
      "Epoch [6/10]\n"
     ]
    },
    {
     "data": {
      "application/vnd.jupyter.widget-view+json": {
       "model_id": "7b94c175fa7a4565ad318f0808f2f562",
       "version_major": 2,
       "version_minor": 0
      },
      "text/plain": [
       "  0%|          | 0/600 [00:00<?, ?it/s]"
      ]
     },
     "metadata": {},
     "output_type": "display_data"
    },
    {
     "name": "stdout",
     "output_type": "stream",
     "text": [
      "Epoch 6 loss: 0.006\n"
     ]
    },
    {
     "data": {
      "application/vnd.jupyter.widget-view+json": {
       "model_id": "3941027dacf3477482617ef82b8faf27",
       "version_major": 2,
       "version_minor": 0
      },
      "text/plain": [
       "  0%|          | 0/200 [00:00<?, ?it/s]"
      ]
     },
     "metadata": {},
     "output_type": "display_data"
    },
    {
     "name": "stdout",
     "output_type": "stream",
     "text": [
      "Epoch 6, Training Accuracy: 99.80%, Validation Accuracy: 96.06%, Training Loss: 0.0063, Validation Loss: 0.2382\n",
      "Epoch [7/10]\n"
     ]
    },
    {
     "data": {
      "application/vnd.jupyter.widget-view+json": {
       "model_id": "5b0b2287d8654ce4be5521bdc2cb75af",
       "version_major": 2,
       "version_minor": 0
      },
      "text/plain": [
       "  0%|          | 0/600 [00:00<?, ?it/s]"
      ]
     },
     "metadata": {},
     "output_type": "display_data"
    },
    {
     "name": "stdout",
     "output_type": "stream",
     "text": [
      "Epoch 7 loss: 0.003\n"
     ]
    },
    {
     "data": {
      "application/vnd.jupyter.widget-view+json": {
       "model_id": "3aa8b03179844ce9b4caefea4c0a1257",
       "version_major": 2,
       "version_minor": 0
      },
      "text/plain": [
       "  0%|          | 0/200 [00:00<?, ?it/s]"
      ]
     },
     "metadata": {},
     "output_type": "display_data"
    },
    {
     "name": "stdout",
     "output_type": "stream",
     "text": [
      "Epoch 7, Training Accuracy: 99.90%, Validation Accuracy: 96.18%, Training Loss: 0.0030, Validation Loss: 0.2870\n",
      "Epoch [8/10]\n"
     ]
    },
    {
     "data": {
      "application/vnd.jupyter.widget-view+json": {
       "model_id": "62a7cec0a9c44cbfa8bab9f72830bda4",
       "version_major": 2,
       "version_minor": 0
      },
      "text/plain": [
       "  0%|          | 0/600 [00:00<?, ?it/s]"
      ]
     },
     "metadata": {},
     "output_type": "display_data"
    },
    {
     "name": "stdout",
     "output_type": "stream",
     "text": [
      "Epoch 8 loss: 0.005\n"
     ]
    },
    {
     "data": {
      "application/vnd.jupyter.widget-view+json": {
       "model_id": "f61ed0c579174ac5a7ae1ed11b432be4",
       "version_major": 2,
       "version_minor": 0
      },
      "text/plain": [
       "  0%|          | 0/200 [00:00<?, ?it/s]"
      ]
     },
     "metadata": {},
     "output_type": "display_data"
    },
    {
     "name": "stdout",
     "output_type": "stream",
     "text": [
      "Epoch 8, Training Accuracy: 99.90%, Validation Accuracy: 96.07%, Training Loss: 0.0050, Validation Loss: 0.2426\n",
      "Epoch [9/10]\n"
     ]
    },
    {
     "data": {
      "application/vnd.jupyter.widget-view+json": {
       "model_id": "3b95c8ad9e7a40dcba6976f905db81a4",
       "version_major": 2,
       "version_minor": 0
      },
      "text/plain": [
       "  0%|          | 0/600 [00:00<?, ?it/s]"
      ]
     },
     "metadata": {},
     "output_type": "display_data"
    },
    {
     "name": "stdout",
     "output_type": "stream",
     "text": [
      "Epoch 9 loss: 0.005\n"
     ]
    },
    {
     "data": {
      "application/vnd.jupyter.widget-view+json": {
       "model_id": "21c5dbca61484c4eb4b40073eb565df3",
       "version_major": 2,
       "version_minor": 0
      },
      "text/plain": [
       "  0%|          | 0/200 [00:00<?, ?it/s]"
      ]
     },
     "metadata": {},
     "output_type": "display_data"
    },
    {
     "name": "stdout",
     "output_type": "stream",
     "text": [
      "Epoch 9, Training Accuracy: 99.89%, Validation Accuracy: 95.99%, Training Loss: 0.0049, Validation Loss: 0.2674\n",
      "Epoch [10/10]\n"
     ]
    },
    {
     "data": {
      "application/vnd.jupyter.widget-view+json": {
       "model_id": "625785f0b4cc4a87b96cdf2f4874b226",
       "version_major": 2,
       "version_minor": 0
      },
      "text/plain": [
       "  0%|          | 0/600 [00:00<?, ?it/s]"
      ]
     },
     "metadata": {},
     "output_type": "display_data"
    },
    {
     "name": "stdout",
     "output_type": "stream",
     "text": [
      "Epoch 10 loss: 0.005\n"
     ]
    },
    {
     "data": {
      "application/vnd.jupyter.widget-view+json": {
       "model_id": "846b805312844572819259ae9cf10a80",
       "version_major": 2,
       "version_minor": 0
      },
      "text/plain": [
       "  0%|          | 0/200 [00:00<?, ?it/s]"
      ]
     },
     "metadata": {},
     "output_type": "display_data"
    },
    {
     "name": "stdout",
     "output_type": "stream",
     "text": [
      "Epoch 10, Training Accuracy: 99.85%, Validation Accuracy: 96.10%, Training Loss: 0.0046, Validation Loss: 0.2732\n"
     ]
    }
   ],
   "source": [
    "# The training loop is a PyTorch convention. It trains the model using the train data loader and evaluates it using the validation data loader.\n",
    "# Storing the loss and accuracy value for each epoch\n",
    "train_losses = []\n",
    "accuracy = []\n",
    "val_losses = []\n",
    "accuracy_val = []\n",
    "\n",
    "# Validation items\n",
    "val_correct = 0\n",
    "val_total = 0\n",
    "NUM_EPOCHS = 10\n",
    "\n",
    "for epoch in range(NUM_EPOCHS):\n",
    "    train_running_loss = 0.0\n",
    "    print(f\"Epoch [{epoch+1}/{NUM_EPOCHS}]\")\n",
    "    \n",
    "    # Initializing the prediction count to zero before the loop\n",
    "    correct = 0\n",
    "    total = 0\n",
    "\n",
    "    # Train loop\n",
    "    model_distil.train()  # Set model to training mode\n",
    "    \n",
    "    for idx, batch in tqdm(enumerate(train_dataloader_distil), total = len(train_dataloader_distil)):\n",
    "        # Moves the input data (input_ids, attention mask, and targets) to the specified device\n",
    "        input_ids = batch[\"input_ids\"].to(device, dtype=torch.long)\n",
    "        attention_mask = batch[\"attention_mask\"].to(device, dtype=torch.long)\n",
    "        targets = batch[\"targets\"].to(device, dtype=torch.long)\n",
    "\n",
    "        # Forward pass\n",
    "        outputs = model_distil(input_ids, attention_mask=attention_mask)  # No token_type_ids for DistilBERT\n",
    "        loss = criterion(outputs, targets)\n",
    "\n",
    "        # Accumulate training loss for each batch\n",
    "        train_running_loss += loss.item()\n",
    "        train_losses.append(loss.item())\n",
    "        \n",
    "        # Compute the number of correct predictions for the current batch\n",
    "        _, predicted = torch.max(outputs, dim=1)\n",
    "        total += targets.size(0)\n",
    "        correct += (predicted == targets).sum().item()\n",
    "\n",
    "        # Backpropagation\n",
    "        loss.backward()\n",
    "\n",
    "        # Gradient descent\n",
    "        optimizer_distil_bert.step()\n",
    "        optimizer_distil_bert.zero_grad()\n",
    "    \n",
    "    # Update the learning rate scheduler\n",
    "    scheduler_distil.step()\n",
    "    \n",
    "    epoch_loss = train_running_loss / len(train_dataloader_distil)\n",
    "    print(f\"Epoch {epoch+1} loss: {epoch_loss:.3f}\")\n",
    "    train_accuracy = 100 * (correct / total)\n",
    "    accuracy.append(train_accuracy)\n",
    "    \n",
    "    # Validation loop\n",
    "    model_distil.eval()  # Set model to evaluation mode\n",
    "    \n",
    "    with torch.no_grad():  # No gradients needed for validation\n",
    "        val_loss = 0.0\n",
    "        val_correct = 0\n",
    "        val_total = 0\n",
    "        \n",
    "        for idx, batch in tqdm(enumerate(val_dataloader_distil), total = len(val_dataloader_distil)):\n",
    "            # Moves the input data (input_ids, attention mask, and targets) to the specified device\n",
    "            input_ids = batch[\"input_ids\"].to(device, dtype=torch.long)\n",
    "            attention_mask = batch[\"attention_mask\"].to(device, dtype=torch.long)\n",
    "            targets = batch[\"targets\"].to(device, dtype=torch.long)\n",
    "        \n",
    "            # Forward pass\n",
    "            outputs = model_distil(input_ids, attention_mask=attention_mask)  # No token_type_ids for DistilBERT\n",
    "            loss = criterion(outputs, targets)\n",
    "        \n",
    "            # Accumulate validation loss\n",
    "            val_loss += loss.item()\n",
    "        \n",
    "            # Compute the number of correct predictions for the validation batch\n",
    "            _, predicted = torch.max(outputs, dim=1)\n",
    "            val_total += targets.size(0)\n",
    "            val_correct += (predicted == targets).sum().item()\n",
    "        \n",
    "        # Calculate the average validation loss\n",
    "        val_loss /= len(val_dataloader_distil)\n",
    "        \n",
    "        # Calculate validation accuracy\n",
    "        val_accuracy = 100 * (val_correct / val_total)\n",
    "        \n",
    "        # Store accuracy values for validation\n",
    "        accuracy_val.append(val_accuracy)\n",
    "        \n",
    "        # Store validation loss\n",
    "        val_losses.append(val_loss)\n",
    "        \n",
    "        # Print training and validation results\n",
    "        print(f\"Epoch {epoch+1}, Training Accuracy: {train_accuracy:.2f}%, Validation Accuracy: {val_accuracy:.2f}%, Training Loss: {epoch_loss:.4f}, Validation Loss: {val_loss:.4f}\")"
   ]
  },
  {
   "cell_type": "markdown",
   "id": "43e49c6e",
   "metadata": {},
   "source": [
    "#### SAVE MODEL"
   ]
  },
  {
   "cell_type": "code",
   "execution_count": 39,
   "id": "49a79a48-dfd9-4457-bc96-fe1fb9c5c89e",
   "metadata": {
    "execution": {
     "iopub.execute_input": "2024-12-25T15:54:31.941348Z",
     "iopub.status.busy": "2024-12-25T15:54:31.941038Z",
     "iopub.status.idle": "2024-12-25T15:54:32.364906Z",
     "shell.execute_reply": "2024-12-25T15:54:32.364275Z",
     "shell.execute_reply.started": "2024-12-25T15:54:31.941324Z"
    }
   },
   "outputs": [],
   "source": [
    "# Save the model's state_dict to a file in the Kaggle environment\n",
    "torch.save(model_distil.state_dict(), '/kaggle/working/model_state_dict.pth')"
   ]
  },
  {
   "cell_type": "markdown",
   "id": "971ba3fa",
   "metadata": {},
   "source": [
    "#### LOAD MODEL"
   ]
  },
  {
   "cell_type": "code",
   "execution_count": 53,
   "id": "97afa66b",
   "metadata": {},
   "outputs": [],
   "source": [
    "model_distil = DistilBERTClassifier(num_classes=2).to(device)"
   ]
  },
  {
   "cell_type": "code",
   "execution_count": 54,
   "id": "fc20ca93",
   "metadata": {},
   "outputs": [
    {
     "data": {
      "text/plain": [
       "<All keys matched successfully>"
      ]
     },
     "execution_count": 54,
     "metadata": {},
     "output_type": "execute_result"
    }
   ],
   "source": [
    "model_distil.load_state_dict(torch.load('model_state_dict.pth', map_location=device))"
   ]
  },
  {
   "cell_type": "markdown",
   "id": "44430132",
   "metadata": {},
   "source": [
    "## DISTIL BERT TESTING"
   ]
  },
  {
   "cell_type": "code",
   "execution_count": 63,
   "id": "1577e14e",
   "metadata": {
    "execution": {
     "iopub.execute_input": "2024-12-25T15:24:15.359496Z",
     "iopub.status.busy": "2024-12-25T15:24:15.359208Z",
     "iopub.status.idle": "2024-12-25T15:24:15.465151Z",
     "shell.execute_reply": "2024-12-25T15:24:15.464137Z",
     "shell.execute_reply.started": "2024-12-25T15:24:15.359475Z"
    }
   },
   "outputs": [
    {
     "data": {
      "application/vnd.jupyter.widget-view+json": {
       "model_id": "5f576843023d46d3aade9751c7469466",
       "version_major": 2,
       "version_minor": 0
      },
      "text/plain": [
       "  0%|          | 0/200 [00:00<?, ?it/s]"
      ]
     },
     "metadata": {},
     "output_type": "display_data"
    },
    {
     "name": "stdout",
     "output_type": "stream",
     "text": [
      "Test Loss: 0.258 | Accuracy: 96.277\n"
     ]
    }
   ],
   "source": [
    "# Initialize the total sample count and correct prediction count to zero\n",
    "correct_pred = 0.0\n",
    "total_samples = 0.0\n",
    "\n",
    "# Storing all the loss, predictions, and label values for the test\n",
    "test_losses = []\n",
    "all_predictions = []\n",
    "all_labels = []\n",
    "\n",
    "model_distil.eval()  # Set the model to evaluation mode\n",
    "with torch.no_grad():\n",
    "    test_loss = 0.0\n",
    "    for batch in tqdm(test_dataloader_distil, total=len(test_dataloader_distil)):\n",
    "        # Moves the input data (input_ids, attention mask, and targets) to the specified device\n",
    "        input_ids = batch[\"input_ids\"].to(device, dtype=torch.long)\n",
    "        attention_mask = batch[\"attention_mask\"].to(device, dtype=torch.long)\n",
    "        targets = batch[\"targets\"].to(device, dtype=torch.long)\n",
    "\n",
    "        # Forward pass for DistilBERT\n",
    "        outputs = model_distil(input_ids, attention_mask=attention_mask)  # No token_type_ids for DistilBERT\n",
    "        \n",
    "        \n",
    "        loss = criterion(outputs, targets)\n",
    "\n",
    "        # Accumulate the loss\n",
    "        test_loss += loss.item()\n",
    "        test_losses.append(loss.item())\n",
    "\n",
    "        # Get predictions (choose the token with the highest probability)\n",
    "        _, predicted = torch.max(outputs, dim=-1)\n",
    "        total_samples += targets.size(0)\n",
    "\n",
    "        # Calculate accuracy\n",
    "        correct_pred += (predicted == targets).sum()\n",
    "\n",
    "        # Store the predicted and actual labels\n",
    "        all_predictions.extend(predicted.cpu().numpy())\n",
    "        all_labels.extend(targets.cpu().numpy())\n",
    "\n",
    "# Calculate the average test loss and accuracy after completing the testing phase\n",
    "test_loss /= len(test_dataloader_distil)\n",
    "accuracy = correct_pred / total_samples\n",
    "\n",
    "# Print the results\n",
    "print(\"Test Loss: {:.3f} | Accuracy: {:.3f}\".format(test_loss, accuracy * 100))"
   ]
  },
  {
   "cell_type": "markdown",
   "id": "76412dde",
   "metadata": {},
   "source": [
    "#### CLASSIFICATION REPORT FOR DISTIL BERT"
   ]
  },
  {
   "cell_type": "code",
   "execution_count": 64,
   "id": "d1e6332e",
   "metadata": {},
   "outputs": [],
   "source": [
    "# these are gotten from the sklearn library\n",
    "accuracy = accuracy_score(all_labels, all_predictions)\n",
    "precision = precision_score(all_labels, all_predictions, average = \"weighted\")\n",
    "recall = recall_score(all_labels, all_predictions, average = \"weighted\")\n",
    "f1 = f1_score(all_labels, all_predictions, average = \"weighted\")"
   ]
  },
  {
   "cell_type": "markdown",
   "id": "517a9bd5",
   "metadata": {},
   "source": [
    "#### DISTILBERT RESULTS"
   ]
  },
  {
   "cell_type": "code",
   "execution_count": 65,
   "id": "2b268ec7",
   "metadata": {},
   "outputs": [
    {
     "name": "stdout",
     "output_type": "stream",
     "text": [
      "Accuracy: 0.963, precision: 0.960, recall: 0.963, F1: 0.960\n"
     ]
    }
   ],
   "source": [
    "print(f\"Accuracy: {accuracy:.3f}, precision: {precision:.3f}, recall: {recall:.3f}, F1: {f1:.3f}\")"
   ]
  },
  {
   "cell_type": "code",
   "execution_count": 66,
   "id": "ec422972",
   "metadata": {},
   "outputs": [
    {
     "name": "stdout",
     "output_type": "stream",
     "text": [
      "              precision    recall  f1-score   support\n",
      "\n",
      "           0       0.97      0.99      0.98      5913\n",
      "           1       0.86      0.60      0.71       480\n",
      "\n",
      "    accuracy                           0.96      6393\n",
      "   macro avg       0.92      0.80      0.84      6393\n",
      "weighted avg       0.96      0.96      0.96      6393\n",
      "\n"
     ]
    }
   ],
   "source": [
    "report = classification_report(all_labels, all_predictions)\n",
    "print(report)"
   ]
  },
  {
   "cell_type": "markdown",
   "id": "ed29a2e4",
   "metadata": {},
   "source": [
    "#### ROC CURVE FOR DISTIL BERT"
   ]
  },
  {
   "cell_type": "code",
   "execution_count": 67,
   "id": "bf055ed4",
   "metadata": {},
   "outputs": [
    {
     "data": {
      "image/png": "[encoded data removed]",
      "text/plain": [
       "<Figure size 640x480 with 1 Axes>"
      ]
     },
     "metadata": {},
     "output_type": "display_data"
    }
   ],
   "source": [
    "fp, tp, thresholds = roc_curve(all_labels, all_predictions)\n",
    "roc_auc = roc_auc_score(all_labels, all_predictions)\n",
    "plt.figure()\n",
    "plt.plot(fp, tp, color=\"blue\", lw=2, label=\"roc curve (AUC = {:.2f})\".format(roc_auc))\n",
    "plt.plot([0, 1], [0, 1], color=\"orange\", lw=2, linestyle=\"--\")\n",
    "plt.xlabel(\"False Positive\")\n",
    "plt.ylabel(\"True Positive\")\n",
    "plt.title(\"roc curve\")\n",
    "plt.legend()\n",
    "plt.show()"
   ]
  },
  {
   "cell_type": "code",
   "execution_count": null,
   "id": "4daeb6b2",
   "metadata": {},
   "outputs": [],
   "source": []
  },
  {
   "cell_type": "code",
   "execution_count": null,
   "id": "04d766ae",
   "metadata": {},
   "outputs": [],
   "source": []
  }
 ],
 "metadata": {
  "kaggle": {
   "accelerator": "nvidiaTeslaT4",
   "dataSources": [
    {
     "datasetId": 3630349,
     "sourceId": 6309830,
     "sourceType": "datasetVersion"
    },
    {
     "datasetId": 6372072,
     "sourceId": 10295407,
     "sourceType": "datasetVersion"
    }
   ],
   "dockerImageVersionId": 30823,
   "isGpuEnabled": true,
   "isInternetEnabled": true,
   "language": "python",
   "sourceType": "notebook"
  },
  "kernelspec": {
   "display_name": "Python 3 (ipykernel)",
   "language": "python",
   "name": "python3"
  },
  "language_info": {
   "codemirror_mode": {
    "name": "ipython",
    "version": 3
   },
   "file_extension": ".py",
   "mimetype": "text/x-python",
   "name": "python",
   "nbconvert_exporter": "python",
   "pygments_lexer": "ipython3",
   "version": "3.10.9"
  },
  "varInspector": {
   "cols": {
    "lenName": 16,
    "lenType": 16,
    "lenVar": 40
   },
   "kernels_config": {
    "python": {
     "delete_cmd_postfix": "",
     "delete_cmd_prefix": "del ",
     "library": "var_list.py",
     "varRefreshCmd": "print(var_dic_list())"
    },
    "r": {
     "delete_cmd_postfix": ") ",
     "delete_cmd_prefix": "rm(",
     "library": "var_list.r",
     "varRefreshCmd": "cat(var_dic_list()) "
    }
   },
   "types_to_exclude": [
    "module",
    "function",
    "builtin_function_or_method",
    "instance",
    "_Feature"
   ],
   "window_display": false
  }
 },
 "nbformat": 4,
 "nbformat_minor": 5
}
